{
 "cells": [
  {
   "cell_type": "code",
   "execution_count": null,
   "id": "cdf114e7-111a-4df0-a600-37105f7471da",
   "metadata": {},
   "outputs": [],
   "source": [
    "'''\n",
    "* 8 Kyu - Convert Boolean Values to Strings\n",
    "\n",
    "Complete the method that takes a boolean value and return a \"Yes\" string for true, or a \"No\" string for false.\n",
    "'''"
   ]
  },
  {
   "cell_type": "code",
   "execution_count": null,
   "id": "c4bd4104-d213-4af5-bd8a-a0ad16f90e42",
   "metadata": {},
   "outputs": [],
   "source": [
    "# My Solution:\n",
    "def bool_to_word(boolean):\n",
    "    return 'Yes' if boolean else 'No'\n",
    "\n",
    "# Best solution"
   ]
  }
 ],
 "metadata": {
  "kernelspec": {
   "display_name": "Python 3 (ipykernel)",
   "language": "python",
   "name": "python3"
  },
  "language_info": {
   "codemirror_mode": {
    "name": "ipython",
    "version": 3
   },
   "file_extension": ".py",
   "mimetype": "text/x-python",
   "name": "python",
   "nbconvert_exporter": "python",
   "pygments_lexer": "ipython3",
   "version": "3.8.5"
  }
 },
 "nbformat": 4,
 "nbformat_minor": 5
}
