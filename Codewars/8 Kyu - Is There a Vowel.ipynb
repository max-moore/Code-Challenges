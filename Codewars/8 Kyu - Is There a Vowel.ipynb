{
 "cells": [
  {
   "cell_type": "code",
   "execution_count": null,
   "id": "7fe9a616-8438-4e8e-b43c-381361e4c0a0",
   "metadata": {},
   "outputs": [],
   "source": [
    "'''\n",
    "* 8 Kyu - Is there a vowel in there? *\n",
    "\n",
    "Given an array of numbers, check if any of the numbers are the character codes for lower case vowels (a, e, i, o, u).\n",
    "\n",
    "If they are, change the array value to a string of that vowel.\n",
    "\n",
    "Return the resulting array.\n",
    "\n",
    "Concepts:\n",
    "ASCII\n",
    "\n",
    "Methods/Functions:\n",
    "enumerate()\n",
    "chr()\n",
    "'''"
   ]
  },
  {
   "cell_type": "code",
   "execution_count": 3,
   "id": "3e3a1212-af94-4723-a54d-b069d0ce963a",
   "metadata": {
    "tags": []
   },
   "outputs": [],
   "source": [
    "# My Solution:\n",
    "def is_vow(inp):\n",
    "    for count, value in enumerate(inp):\n",
    "        if value in [97, 101, 105, 111, 117]:\n",
    "            inp[count] = chr(value)\n",
    "    return inp"
   ]
  },
  {
   "cell_type": "code",
   "execution_count": null,
   "id": "79ee9e16-1c7a-408d-a8af-278f85a9d346",
   "metadata": {},
   "outputs": [],
   "source": [
    "# Alternative Solutions:"
   ]
  },
  {
   "cell_type": "code",
   "execution_count": null,
   "id": "e7d691fd-41e4-46da-ad7a-ee729a51cace",
   "metadata": {},
   "outputs": [],
   "source": [
    "# Primary Solution:\n",
    "def is_vow(inp):\n",
    "    return [chr(n) if chr(n) in \"aeiou\" else n for n in inp]\n",
    "\n",
    "# List comprehension is more succinct\n",
    "# Could creating a list of numbers and checking it instead of using chr() on n and checking a string be more efficient?"
   ]
  }
 ],
 "metadata": {
  "kernelspec": {
   "display_name": "Python 3 (ipykernel)",
   "language": "python",
   "name": "python3"
  },
  "language_info": {
   "codemirror_mode": {
    "name": "ipython",
    "version": 3
   },
   "file_extension": ".py",
   "mimetype": "text/x-python",
   "name": "python",
   "nbconvert_exporter": "python",
   "pygments_lexer": "ipython3",
   "version": "3.8.5"
  }
 },
 "nbformat": 4,
 "nbformat_minor": 5
}
