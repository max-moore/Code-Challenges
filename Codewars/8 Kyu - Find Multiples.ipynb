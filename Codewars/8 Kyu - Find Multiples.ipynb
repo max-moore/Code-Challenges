{
 "cells": [
  {
   "cell_type": "code",
   "execution_count": 1,
   "id": "c80e4f05-3475-4fea-ad78-765c1faa2f63",
   "metadata": {},
   "outputs": [],
   "source": [
    "'''\n",
    "*8 Kyu - Find Multiples*\n",
    "\n",
    "In this simple exercise, you will build a program that takes a value, integer, and returns a list of its multiples up to another value, limit. \n",
    "If limit is a multiple of integer, it should be included as well. \n",
    "There will only ever be positive integers passed into the function, not consisting of 0. \n",
    "The limit will always be higher than the base.\n",
    "\n",
    "For example, if the parameters passed are (2, 6), the function should return [2, 4, 6] as 2, 4, and 6 are the multiples of 2 up to 6.\n",
    "\n",
    "If you can, try writing it in only one line of code.\n",
    "\n",
    "Concepts:\n",
    "List typing\n",
    "Iteration/filtration using range()\n",
    "range() parameters\n",
    "\n",
    "Methods/Functions:\n",
    "list()\n",
    "range()\n",
    "'''"
   ]
  },
  {
   "cell_type": "code",
   "execution_count": null,
   "id": "fedff983-25b9-4ea2-b69e-e726b7b22503",
   "metadata": {},
   "outputs": [],
   "source": [
    "# My Solution:\n",
    "def find_multiples(integer, limit):\n",
    "    return [i for i in range(limit + 1) if 0 < i <= limit and i % integer == 0]\n",
    "\n",
    "# Unnecessary list comprehension and conditons"
   ]
  },
  {
   "cell_type": "code",
   "execution_count": null,
   "id": "d60af1cd-a303-419b-91e8-1a35e943bcd8",
   "metadata": {},
   "outputs": [],
   "source": [
    "# Alternative Solutions:"
   ]
  },
  {
   "cell_type": "code",
   "execution_count": null,
   "id": "25e0dc43-45f2-4891-b262-923dcf416937",
   "metadata": {},
   "outputs": [],
   "source": [
    "# Primary Solution:\n",
    "def find_multiples(integer, limit):\n",
    "    return list(range(integer, limit+1, integer))\n",
    "\n",
    "# range() parameters remove the need for conditions\n",
    "# List typing removes the need for a for loop/list comprehension"
   ]
  },
  {
   "cell_type": "code",
   "execution_count": null,
   "id": "6c23e587-0f4c-4716-b524-2ac1a62fdc90",
   "metadata": {},
   "outputs": [],
   "source": [
    "def find_multiples(integer, limit):\n",
    "    return range(integer, limit+1, integer)\n",
    "\n",
    "# In Python 2 range() returns a list, in Python 3 it returns a range object which needs to be typed as a list"
   ]
  },
  {
   "cell_type": "code",
   "execution_count": null,
   "id": "dff6a99b-a38a-4620-932f-1e5fd18c8cfe",
   "metadata": {},
   "outputs": [],
   "source": [
    "def find_multiples(integer, limit):\n",
    "    arr = []\n",
    "    count = integer\n",
    "    while count <= limit:\n",
    "        arr.append(count)\n",
    "        count += integer\n",
    "    return arr\n",
    "\n",
    "# A reasonable solution, but one that doesn't accomplish the one-liner challenge"
   ]
  },
  {
   "cell_type": "code",
   "execution_count": 3,
   "id": "6dfee0e7-3cc0-49b8-bf0a-427962b67b7b",
   "metadata": {
    "collapsed": true,
    "jupyter": {
     "outputs_hidden": true
    },
    "tags": []
   },
   "outputs": [
    {
     "data": {
      "text/plain": [
       "[2, 4, 6]"
      ]
     },
     "execution_count": 3,
     "metadata": {},
     "output_type": "execute_result"
    }
   ],
   "source": [
    "find_multiples = lambda integer, limit: list(range(integer, limit + 1, integer))\n",
    "\n",
    "# A solution for creating a lambda function, functionally identical to our primary solution, but more appropriate in certain, specific contexts\n",
    "# Worth considering for its concise and readable qualities"
   ]
  }
 ],
 "metadata": {
  "kernelspec": {
   "display_name": "Python 3 (ipykernel)",
   "language": "python",
   "name": "python3"
  },
  "language_info": {
   "codemirror_mode": {
    "name": "ipython",
    "version": 3
   },
   "file_extension": ".py",
   "mimetype": "text/x-python",
   "name": "python",
   "nbconvert_exporter": "python",
   "pygments_lexer": "ipython3",
   "version": "3.8.5"
  }
 },
 "nbformat": 4,
 "nbformat_minor": 5
}
