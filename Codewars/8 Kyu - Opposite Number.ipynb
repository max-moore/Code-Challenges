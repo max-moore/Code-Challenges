{
 "cells": [
  {
   "cell_type": "code",
   "execution_count": null,
   "id": "c3b5815a-8940-4194-bc4b-25d6e19aa6cc",
   "metadata": {},
   "outputs": [],
   "source": [
    "'''\n",
    "* 8 Kyu - Opposite Number *\n",
    "\n",
    "Very simple, given an integer or a floating-point number, find its opposite.\n",
    "\n",
    "Examples:\n",
    "\n",
    "1: -1\n",
    "14: -14\n",
    "-34: 34\n",
    "\n",
    "Concepts:\n",
    "Negative operator\n",
    "'''"
   ]
  },
  {
   "cell_type": "code",
   "execution_count": null,
   "id": "2a849e00-9a9d-4299-a9bf-16305068dc09",
   "metadata": {},
   "outputs": [],
   "source": [
    "# My Solution:\n",
    "def opposite(number):\n",
    "    return -number\n",
    "\n",
    "# Best solution"
   ]
  }
 ],
 "metadata": {
  "kernelspec": {
   "display_name": "Python 3 (ipykernel)",
   "language": "python",
   "name": "python3"
  },
  "language_info": {
   "codemirror_mode": {
    "name": "ipython",
    "version": 3
   },
   "file_extension": ".py",
   "mimetype": "text/x-python",
   "name": "python",
   "nbconvert_exporter": "python",
   "pygments_lexer": "ipython3",
   "version": "3.8.5"
  }
 },
 "nbformat": 4,
 "nbformat_minor": 5
}
