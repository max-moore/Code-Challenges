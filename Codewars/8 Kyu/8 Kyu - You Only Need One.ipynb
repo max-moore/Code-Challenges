{
 "cells": [
  {
   "cell_type": "code",
   "execution_count": null,
   "id": "4c3a4279-43a9-4907-951c-96561e2898ab",
   "metadata": {},
   "outputs": [],
   "source": [
    "'''\n",
    "* 8 Kyu - You Only Need One *\n",
    "\n",
    "You will be given an array a and a value x. All you need to do is check whether the provided array contains the value.\n",
    "\n",
    "Array can contain numbers or strings. X can be either.\n",
    "\n",
    "Return true if the array contains the value, false if not.\n",
    "\n",
    "Concepts:\n",
    "Value in Sequence\n",
    "\n",
    "Methods/Functions:\n",
    "count()\n",
    "'''"
   ]
  },
  {
   "cell_type": "code",
   "execution_count": null,
   "id": "0ae51fd2-6f01-46fc-9534-3d20e7ea22cf",
   "metadata": {},
   "outputs": [],
   "source": [
    "# My Solution:\n",
    "def check(seq, elem):\n",
    "    return seq.count(elem) > 0"
   ]
  },
  {
   "cell_type": "code",
   "execution_count": null,
   "id": "dfab96ea-b073-4329-b2e3-c2d3ee3be21d",
   "metadata": {},
   "outputs": [],
   "source": [
    "# Alternative Solutions:"
   ]
  },
  {
   "cell_type": "code",
   "execution_count": null,
   "id": "5204cebe-99d0-4c99-893d-2cfecab616f8",
   "metadata": {},
   "outputs": [],
   "source": [
    "# In Solution:\n",
    "def check(seq, elem):\n",
    "    return elem in seq\n",
    "\n",
    "# Ideal solution"
   ]
  }
 ],
 "metadata": {
  "kernelspec": {
   "display_name": "Python 3 (ipykernel)",
   "language": "python",
   "name": "python3"
  },
  "language_info": {
   "codemirror_mode": {
    "name": "ipython",
    "version": 3
   },
   "file_extension": ".py",
   "mimetype": "text/x-python",
   "name": "python",
   "nbconvert_exporter": "python",
   "pygments_lexer": "ipython3",
   "version": "3.8.5"
  }
 },
 "nbformat": 4,
 "nbformat_minor": 5
}
