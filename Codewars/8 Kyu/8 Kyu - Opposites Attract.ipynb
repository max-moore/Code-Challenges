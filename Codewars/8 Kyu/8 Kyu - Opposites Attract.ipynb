{
 "cells": [
  {
   "cell_type": "code",
   "execution_count": null,
   "id": "2e3a8c27-4b81-4b21-aa55-72e0fdb5d2bb",
   "metadata": {},
   "outputs": [],
   "source": [
    "'''\n",
    "* 8 Kyu - Opposites Attract *\n",
    "\n",
    "Timmy & Sarah think they are in love, but around where they live, they will only know once they pick a flower each. \n",
    "If one of the flowers has an even number of petals and the other has an odd number of petals it means they are in love.\n",
    "\n",
    "Write a function that will take the number of petals of each flower and return true if they are in love and false if they aren't.\n",
    "'''"
   ]
  },
  {
   "cell_type": "code",
   "execution_count": null,
   "id": "0f1ec3f4-e1d0-460e-84d4-1dbd717c3305",
   "metadata": {},
   "outputs": [],
   "source": [
    "# My Solution:\n",
    "def lovefunc( flower1, flower2 ):\n",
    "    return (flower1 + flower2) % 2 == 1"
   ]
  },
  {
   "cell_type": "code",
   "execution_count": null,
   "id": "afb9ea60-adfe-4bb4-be11-c4a8d4e4b57b",
   "metadata": {},
   "outputs": [],
   "source": [
    "# Alternative Solution:"
   ]
  },
  {
   "cell_type": "code",
   "execution_count": null,
   "id": "62a673df-279a-4c86-91b1-663a0ceb8a3e",
   "metadata": {},
   "outputs": [],
   "source": [
    "# Primary Solution:\n",
    "def lovefunc( flower1, flower2 ):\n",
    "    return (flower1 + flower2) % 2\n",
    "\n",
    "# Since the only possible returned values are 0 or 1, we don't need a condition"
   ]
  }
 ],
 "metadata": {
  "kernelspec": {
   "display_name": "Python 3 (ipykernel)",
   "language": "python",
   "name": "python3"
  },
  "language_info": {
   "codemirror_mode": {
    "name": "ipython",
    "version": 3
   },
   "file_extension": ".py",
   "mimetype": "text/x-python",
   "name": "python",
   "nbconvert_exporter": "python",
   "pygments_lexer": "ipython3",
   "version": "3.8.5"
  }
 },
 "nbformat": 4,
 "nbformat_minor": 5
}
