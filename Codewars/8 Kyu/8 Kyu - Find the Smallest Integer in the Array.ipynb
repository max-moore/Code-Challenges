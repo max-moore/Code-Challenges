{
 "cells": [
  {
   "cell_type": "code",
   "execution_count": null,
   "id": "db69f446-70e9-4b9f-8162-17da93fb297a",
   "metadata": {},
   "outputs": [],
   "source": [
    "'''\n",
    "* 8 Kyu - Find the Smallest Integer in the Array *\n",
    "\n",
    "Given an array of integers your solution should find the smallest integer.\n",
    "\n",
    "For example:\n",
    "\n",
    "    Given [34, 15, 88, 2] your solution will return 2\n",
    "    Given [34, -345, -1, 100] your solution will return -345\n",
    "\n",
    "You can assume, for the purpose of this kata, that the supplied array will not be empty.\n",
    "\n",
    "Methods/Functions:\n",
    "min()\n",
    "'''"
   ]
  },
  {
   "cell_type": "code",
   "execution_count": null,
   "id": "b1051f63-0e00-4ded-80bd-ddb9e32c1bc3",
   "metadata": {},
   "outputs": [],
   "source": [
    "# My Solution:\n",
    "def find_smallest_int(arr):\n",
    "    return min(arr)"
   ]
  },
  {
   "cell_type": "code",
   "execution_count": 1,
   "id": "5891271d-fdae-4a14-b1e7-85eb937594e0",
   "metadata": {},
   "outputs": [],
   "source": [
    "# Alternative Solutions:"
   ]
  },
  {
   "cell_type": "code",
   "execution_count": null,
   "id": "8ce0ceba-fddd-47ed-bf46-2162d4ddd5a2",
   "metadata": {},
   "outputs": [],
   "source": [
    "# No Function Definition:\n",
    "find_smallest_int = min\n",
    "\n",
    "# Arguably better than my solution because it doesn't define a function that already exists"
   ]
  }
 ],
 "metadata": {
  "kernelspec": {
   "display_name": "Python 3 (ipykernel)",
   "language": "python",
   "name": "python3"
  },
  "language_info": {
   "codemirror_mode": {
    "name": "ipython",
    "version": 3
   },
   "file_extension": ".py",
   "mimetype": "text/x-python",
   "name": "python",
   "nbconvert_exporter": "python",
   "pygments_lexer": "ipython3",
   "version": "3.8.5"
  }
 },
 "nbformat": 4,
 "nbformat_minor": 5
}
