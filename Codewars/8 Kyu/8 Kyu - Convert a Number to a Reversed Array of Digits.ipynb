{
 "cells": [
  {
   "cell_type": "code",
   "execution_count": null,
   "id": "836166e4-c05b-4d2b-b0e1-f93b9237d0ce",
   "metadata": {},
   "outputs": [],
   "source": [
    "'''\n",
    "* 8 Kyu - Convert a Number to a Reversed Array of Digits *\n",
    "\n",
    "Convert number to reversed array of digits\n",
    "\n",
    "Given a random non-negative number, you have to return the digits of this number within an array in reverse order.\n",
    "\n",
    "Example (Input => Output):\n",
    "\n",
    "348597 => [7,9,5,8,4,3]\n",
    "0 => [0]\n",
    "\n",
    "Concepts:\n",
    "List Comprehensions\n",
    "\n",
    "Methods/Functions:\n",
    "map()\n",
    "'''"
   ]
  },
  {
   "cell_type": "code",
   "execution_count": null,
   "id": "30570c3e-ca03-406c-8af4-81ca459202ac",
   "metadata": {},
   "outputs": [],
   "source": [
    "# My Solution:\n",
    "def digitize(n):\n",
    "    return [int(x) for x in str(n)[::-1]]"
   ]
  },
  {
   "cell_type": "code",
   "execution_count": 1,
   "id": "090b2641-83cb-4d19-966e-020b37f419ac",
   "metadata": {},
   "outputs": [],
   "source": [
    "# Alternative Solutions:"
   ]
  },
  {
   "cell_type": "code",
   "execution_count": null,
   "id": "48d327a8-b334-41d4-930e-b7b4d4af3fd7",
   "metadata": {},
   "outputs": [],
   "source": [
    "# Map Solution:\n",
    "def digitize(n):\n",
    "    return list(map(int, str(n)[::-1]))"
   ]
  },
  {
   "cell_type": "code",
   "execution_count": null,
   "id": "ce5991c9-79d5-4061-95ad-91ffa4398cf2",
   "metadata": {},
   "outputs": [],
   "source": [
    "# While Loop Solution:\n",
    "def digitize(n):\n",
    "    result = []\n",
    "    while n >= 1:\n",
    "        result.append(n%10)\n",
    "        n //= 10\n",
    "    return result\n",
    "\n",
    "# Might have competitive performance, but possibly weaker maintainability"
   ]
  }
 ],
 "metadata": {
  "kernelspec": {
   "display_name": "Python 3 (ipykernel)",
   "language": "python",
   "name": "python3"
  },
  "language_info": {
   "codemirror_mode": {
    "name": "ipython",
    "version": 3
   },
   "file_extension": ".py",
   "mimetype": "text/x-python",
   "name": "python",
   "nbconvert_exporter": "python",
   "pygments_lexer": "ipython3",
   "version": "3.8.5"
  }
 },
 "nbformat": 4,
 "nbformat_minor": 5
}
