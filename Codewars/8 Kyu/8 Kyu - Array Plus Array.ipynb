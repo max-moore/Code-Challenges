{
 "cells": [
  {
   "cell_type": "code",
   "execution_count": null,
   "id": "30907d11-8e45-46f2-b56a-47782f933d8f",
   "metadata": {},
   "outputs": [],
   "source": [
    "'''\n",
    "* 8 Kyu - Array Plus Array *\n",
    "\n",
    "I want to get the sum of two arrays, or more specifically, the sum of all their elements.\n",
    "\n",
    "Each array includes only integer numbers. Output is a number too.\n",
    "\n",
    "Concepts:\n",
    "List Combination\n",
    "\n",
    "Methods/Functions:\n",
    "sum()\n",
    "'''"
   ]
  },
  {
   "cell_type": "code",
   "execution_count": null,
   "id": "b1401bc2-3b3a-49a0-812f-ab2eceaca99c",
   "metadata": {},
   "outputs": [],
   "source": [
    "# My Solution:\n",
    "def array_plus_array(arr1,arr2):\n",
    "    return sum(arr1 + arr2)\n",
    "\n",
    "# Can't get much simpler than this"
   ]
  }
 ],
 "metadata": {
  "kernelspec": {
   "display_name": "Python 3 (ipykernel)",
   "language": "python",
   "name": "python3"
  },
  "language_info": {
   "codemirror_mode": {
    "name": "ipython",
    "version": 3
   },
   "file_extension": ".py",
   "mimetype": "text/x-python",
   "name": "python",
   "nbconvert_exporter": "python",
   "pygments_lexer": "ipython3",
   "version": "3.8.5"
  }
 },
 "nbformat": 4,
 "nbformat_minor": 5
}
