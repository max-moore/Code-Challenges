{
 "cells": [
  {
   "cell_type": "code",
   "execution_count": null,
   "id": "370cdfcd-6257-44ad-8b89-f16515a4323d",
   "metadata": {},
   "outputs": [],
   "source": [
    "'''\n",
    "* 8 Kyu - A Needle in the Haystack *\n",
    "\n",
    "Can you find the needle in the haystack?\n",
    "\n",
    "Write a function findNeedle() that takes an array full of junk but containing one \"needle\"\n",
    "\n",
    "After your function finds the needle it should return a message (as a string) that says:\n",
    "\n",
    "\"found the needle at position \" plus the index it found the needle, so:\n",
    "\n",
    "Example(Input --> Output)\n",
    "\n",
    "[\"hay\", \"junk\", \"hay\", \"hay\", \"moreJunk\", \"needle\", \"randomJunk\"] --> \"found the needle at position 5\" \n",
    "\n",
    "Note: In COBOL, it should return \"found the needle at position 6\"\n",
    "\n",
    "Concepts:\n",
    "String Formatting\n",
    "\n",
    "Methods/Functions:\n",
    "format()\n",
    "'''"
   ]
  },
  {
   "cell_type": "code",
   "execution_count": null,
   "id": "9834743d-0182-49d4-b0ce-f782d5667e2f",
   "metadata": {},
   "outputs": [],
   "source": [
    "# My Solution:\n",
    "def find_needle(haystack):\n",
    "    return \"found the needle at position \" + str(haystack.index('needle'))\n",
    "\n",
    "# Usable, but string formatting solutions are more ideal"
   ]
  },
  {
   "cell_type": "code",
   "execution_count": 1,
   "id": "520d2a9b-af6e-4af6-9f3c-c0fc2ef57510",
   "metadata": {},
   "outputs": [],
   "source": [
    "# Alternative Solutions:"
   ]
  },
  {
   "cell_type": "code",
   "execution_count": 2,
   "id": "733d0ad8-10c5-44d1-a9bc-823c33d381fa",
   "metadata": {},
   "outputs": [],
   "source": [
    "# % Format Solution:\n",
    "def find_needle(haystack):\n",
    "    return \"found the needle at position %d\" % haystack.index('needle')"
   ]
  },
  {
   "cell_type": "code",
   "execution_count": 4,
   "id": "74016001-4d73-44e2-94da-52da40f5f090",
   "metadata": {},
   "outputs": [],
   "source": [
    "# .format() Solution:\n",
    "def find_needle(haystack):\n",
    "    return \"found the needle at position {}\".format(haystack.index('needle'))"
   ]
  },
  {
   "cell_type": "code",
   "execution_count": null,
   "id": "6920aac8-9ed6-42f8-8bec-c90b94d3a15d",
   "metadata": {},
   "outputs": [],
   "source": [
    "# F-String Solution:\n",
    "def find_needle(haystack):\n",
    "    return f\"found the needle at position {haystack.index('needle')}\"\n",
    "\n",
    "# Recommended solution"
   ]
  }
 ],
 "metadata": {
  "kernelspec": {
   "display_name": "Python 3 (ipykernel)",
   "language": "python",
   "name": "python3"
  },
  "language_info": {
   "codemirror_mode": {
    "name": "ipython",
    "version": 3
   },
   "file_extension": ".py",
   "mimetype": "text/x-python",
   "name": "python",
   "nbconvert_exporter": "python",
   "pygments_lexer": "ipython3",
   "version": "3.8.5"
  }
 },
 "nbformat": 4,
 "nbformat_minor": 5
}
