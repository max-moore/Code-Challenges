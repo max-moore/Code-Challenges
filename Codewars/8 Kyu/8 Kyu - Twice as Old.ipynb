{
 "cells": [
  {
   "cell_type": "code",
   "execution_count": null,
   "id": "60b28f86-23b4-47ab-ac70-a488068a175b",
   "metadata": {},
   "outputs": [],
   "source": [
    "'''\n",
    "* 8 Kyu - Twice as Old *\n",
    "\n",
    "Your function takes two arguments:\n",
    "\n",
    "    Current age of father (years)\n",
    "    Current age of his son (years)\n",
    "\n",
    "Сalculate how many years ago the father was twice as old as his son (or in how many years he will be twice as old).\n",
    "\n",
    "Concepts:\n",
    "Basic algebra\n",
    "\n",
    "Methods/Functions:\n",
    "abs()\n",
    "'''"
   ]
  },
  {
   "cell_type": "code",
   "execution_count": null,
   "id": "c64a33ae-d2a9-4fe5-b284-9ab5070114f9",
   "metadata": {},
   "outputs": [],
   "source": [
    "# My Solution:\n",
    "def twice_as_old(dad_years_old, son_years_old):\n",
    "    return abs(dad_years_old - son_years_old - son_years_old)\n",
    "\n",
    "# In order to get the solution, you figure out the difference between their ages and subtract the son's age, and turn the value positive if necessary\n",
    "\n",
    "# This is because if the dad is twice as old as his son, then the difference in ages will be the same as his son's age, and the difference minus the son's age will be zero\n",
    "\n",
    "# If years need to pass before the dad is twice as old as his son, \n",
    "# then the difference minus the son's age will be a positive number (equal to the amount of years that need to pass)\n",
    "\n",
    "# If the dad was twice as old as his son in the past, \n",
    "# then the difference minus the son's age will be a negative number (equal to the amount of years ago that the condition was met)"
   ]
  },
  {
   "cell_type": "code",
   "execution_count": null,
   "id": "81bf685e-8264-4914-b880-297df2544518",
   "metadata": {},
   "outputs": [],
   "source": [
    "# Alternative Solution:"
   ]
  },
  {
   "cell_type": "code",
   "execution_count": null,
   "id": "4f57d8ee-c056-4d8c-a0f2-4405389cb0f4",
   "metadata": {},
   "outputs": [],
   "source": [
    "# Primary Solution:\n",
    "def twice_as_old(dad_years_old, son_years_old):\n",
    "    return abs(dad_years_old - son_years_old * 2)\n",
    "\n",
    "# A bit more succinct, not sure if there's a performance difference"
   ]
  }
 ],
 "metadata": {
  "kernelspec": {
   "display_name": "Python 3 (ipykernel)",
   "language": "python",
   "name": "python3"
  },
  "language_info": {
   "codemirror_mode": {
    "name": "ipython",
    "version": 3
   },
   "file_extension": ".py",
   "mimetype": "text/x-python",
   "name": "python",
   "nbconvert_exporter": "python",
   "pygments_lexer": "ipython3",
   "version": "3.8.5"
  }
 },
 "nbformat": 4,
 "nbformat_minor": 5
}
