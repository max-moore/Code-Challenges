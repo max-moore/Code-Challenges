{
 "cells": [
  {
   "cell_type": "code",
   "execution_count": null,
   "id": "fb7f7990-a287-4a2e-a2f2-7a09a61bcdff",
   "metadata": {},
   "outputs": [],
   "source": [
    "'''\n",
    "* 8 Kyu - Sum of Positive *\n",
    "\n",
    "You get an array of numbers, return the sum of all of the positive numbers.\n",
    "\n",
    "Example [1,-4,7,12] => 1 + 7 + 12 = 20\n",
    "\n",
    "Note: if there is nothing to sum, the sum defaults to 0.\n",
    "\n",
    "Concepts:\n",
    "Generator expressions\n",
    "\n",
    "Functions/Methods:\n",
    "map()\n",
    "filter()\n",
    "'''"
   ]
  },
  {
   "cell_type": "code",
   "execution_count": null,
   "id": "0f34584a-3711-4bd2-bf9a-84ca102f5b67",
   "metadata": {},
   "outputs": [],
   "source": [
    "# My Solution:\n",
    "def positive_sum(arr):\n",
    "    return sum(x for x in arr if x > 0)"
   ]
  },
  {
   "cell_type": "code",
   "execution_count": null,
   "id": "b24bc939-7d96-4bf6-98d8-4a4e6252cd98",
   "metadata": {},
   "outputs": [],
   "source": [
    "# Alternative Solutions:"
   ]
  },
  {
   "cell_type": "code",
   "execution_count": null,
   "id": "08b0b5df-2152-47f8-818b-510caf3e75d7",
   "metadata": {},
   "outputs": [],
   "source": [
    "# Filter Solution:\n",
    "def positive_sum(arr):\n",
    "    return sum(filter(lambda x: x > 0,arr))"
   ]
  },
  {
   "cell_type": "code",
   "execution_count": null,
   "id": "bb6b87da-5249-4f3a-ae03-f798a7d2f17a",
   "metadata": {},
   "outputs": [],
   "source": [
    "# Map Solution:\n",
    "def positive_sum(arr):\n",
    "    return sum(map(lambda x: x if x > 0 else 0, arr))"
   ]
  }
 ],
 "metadata": {
  "kernelspec": {
   "display_name": "Python 3 (ipykernel)",
   "language": "python",
   "name": "python3"
  },
  "language_info": {
   "codemirror_mode": {
    "name": "ipython",
    "version": 3
   },
   "file_extension": ".py",
   "mimetype": "text/x-python",
   "name": "python",
   "nbconvert_exporter": "python",
   "pygments_lexer": "ipython3",
   "version": "3.8.5"
  }
 },
 "nbformat": 4,
 "nbformat_minor": 5
}
