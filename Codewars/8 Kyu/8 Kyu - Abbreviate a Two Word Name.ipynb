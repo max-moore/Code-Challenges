{
 "cells": [
  {
   "cell_type": "code",
   "execution_count": null,
   "id": "a08db5a5-403e-4a91-a06a-7bc23c5ef963",
   "metadata": {},
   "outputs": [],
   "source": [
    "'''\n",
    "* 8 Kyu - Abbreviate a Two Word Name *\n",
    "\n",
    "Write a function to convert a name into initials. This kata strictly takes two words with one space in between them.\n",
    "\n",
    "The output should be two capital letters with a dot separating them.\n",
    "\n",
    "It should look like this:\n",
    "\n",
    "Sam Harris => S.H\n",
    "\n",
    "patrick feeney => P.F\n",
    "\n",
    "Concepts:\n",
    "Generators\n",
    "\n",
    "Methods/Functions:\n",
    "join()\n",
    "upper()\n",
    "split()\n",
    "'''"
   ]
  },
  {
   "cell_type": "code",
   "execution_count": null,
   "id": "8c8fd63c-edfa-42ed-bf38-7b883adde054",
   "metadata": {},
   "outputs": [],
   "source": [
    "# My Solution:\n",
    "def abbrev_name(name):\n",
    "    return '.'.join(word[0] for word in name.upper().split())"
   ]
  }
 ],
 "metadata": {
  "kernelspec": {
   "display_name": "Python 3 (ipykernel)",
   "language": "python",
   "name": "python3"
  },
  "language_info": {
   "codemirror_mode": {
    "name": "ipython",
    "version": 3
   },
   "file_extension": ".py",
   "mimetype": "text/x-python",
   "name": "python",
   "nbconvert_exporter": "python",
   "pygments_lexer": "ipython3",
   "version": "3.8.5"
  }
 },
 "nbformat": 4,
 "nbformat_minor": 5
}
