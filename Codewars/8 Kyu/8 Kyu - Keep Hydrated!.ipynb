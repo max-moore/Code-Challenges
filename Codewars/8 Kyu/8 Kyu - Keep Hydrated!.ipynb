{
 "cells": [
  {
   "cell_type": "code",
   "execution_count": 2,
   "id": "1a7cd7cf-287c-4ca5-83ac-663457d46494",
   "metadata": {
    "collapsed": true,
    "jupyter": {
     "outputs_hidden": true
    },
    "tags": []
   },
   "outputs": [
    {
     "data": {
      "text/plain": [
       "'\\n* 8 Kyu - Keep Hydrated! *\\n\\nNathan loves cycling.\\n\\nBecause Nathan knows it is important to stay hydrated, he drinks 0.5 litres of water per hour of cycling.\\n\\nYou get given the time in hours and you need to return the number of litres Nathan will drink, rounded to the smallest value.\\n\\nFor example:\\n\\ntime = 3 ----> litres = 1\\n\\ntime = 6.7---> litres = 3\\n\\ntime = 11.8--> litres = 5\\n\\nConcepts:\\nFloor Division\\n'"
      ]
     },
     "execution_count": 2,
     "metadata": {},
     "output_type": "execute_result"
    }
   ],
   "source": [
    "'''\n",
    "* 8 Kyu - Keep Hydrated! *\n",
    "\n",
    "Nathan loves cycling.\n",
    "\n",
    "Because Nathan knows it is important to stay hydrated, he drinks 0.5 litres of water per hour of cycling.\n",
    "\n",
    "You get given the time in hours and you need to return the number of litres Nathan will drink, rounded to the smallest value.\n",
    "\n",
    "For example:\n",
    "\n",
    "time = 3 ----> litres = 1\n",
    "\n",
    "time = 6.7---> litres = 3\n",
    "\n",
    "time = 11.8--> litres = 5\n",
    "\n",
    "Concepts:\n",
    "Floor Division\n",
    "'''"
   ]
  },
  {
   "cell_type": "code",
   "execution_count": null,
   "id": "7bfea07b-ed8f-467d-a77a-211e06b8e5d8",
   "metadata": {},
   "outputs": [],
   "source": [
    "# My Solution:\n",
    "def litres(time):\n",
    "    return time // 2"
   ]
  }
 ],
 "metadata": {
  "kernelspec": {
   "display_name": "Python 3 (ipykernel)",
   "language": "python",
   "name": "python3"
  },
  "language_info": {
   "codemirror_mode": {
    "name": "ipython",
    "version": 3
   },
   "file_extension": ".py",
   "mimetype": "text/x-python",
   "name": "python",
   "nbconvert_exporter": "python",
   "pygments_lexer": "ipython3",
   "version": "3.8.5"
  }
 },
 "nbformat": 4,
 "nbformat_minor": 5
}
