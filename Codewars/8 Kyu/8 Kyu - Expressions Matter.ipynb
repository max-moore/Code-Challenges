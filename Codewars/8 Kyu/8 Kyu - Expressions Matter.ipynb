{
 "cells": [
  {
   "cell_type": "code",
   "execution_count": null,
   "id": "694e9cc3-495a-498c-9aab-02342651cd7d",
   "metadata": {},
   "outputs": [],
   "source": [
    "'''\n",
    "*8 Kyu - Expressions Matter*\n",
    "\n",
    "Given three integers a, b, c, return the largest number obtained after inserting the following operators and brackets: +, *, ()\n",
    "In other words , try every combination of a,b,c with [*+()] , and return the maximum obtained\n",
    "\n",
    "With the numbers 1, 2 and 3, here are some ways of placing signs and brackets:\n",
    "\n",
    "    1 * (2 + 3) = 5\n",
    "    1 * 2 * 3 = 6\n",
    "    1 + 2 * 3 = 7\n",
    "    (1 + 2) * 3 = 9\n",
    "\n",
    "So the maximum value that you can obtain is 9.\n",
    "\n",
    "The numbers are always positive.\n",
    "The numbers are in the range (1  ≤  a, b, c  ≤  10).\n",
    "You can use the same operation more than once.\n",
    "It's not necessary to place all the signs and brackets.\n",
    "Repetition in numbers may occur.\n",
    "You cannot swap the operands. For instance, in the given example you cannot get expression (1 + 3) * 2 = 8.\n",
    "\n",
    "Concepts:\n",
    "Expressions\n",
    "\n",
    "Methods/Functions:\n",
    "max()\n",
    "'''"
   ]
  },
  {
   "cell_type": "code",
   "execution_count": null,
   "id": "fb1c47f0-9fff-41c6-98b6-647ccecde539",
   "metadata": {},
   "outputs": [],
   "source": [
    "# My Solution:\n",
    "def expressions_matter(a, b, c):\n",
    "    highest = 0\n",
    "    \n",
    "    if a == 1:\n",
    "        highest = a + b\n",
    "        if c == 1:\n",
    "            highest = highest + c\n",
    "        else:\n",
    "            highest = highest * c\n",
    "    elif c == 1:\n",
    "        highest = (b + c) * a\n",
    "    elif b == 1:\n",
    "        highest = (b + min(a, c)) * max(a, c)\n",
    "    else:\n",
    "        highest = a * b * c\n",
    "        \n",
    "    return highest\n",
    "\n",
    "# Slower, arguably less readable, and less maintainable than primary solution"
   ]
  },
  {
   "cell_type": "code",
   "execution_count": null,
   "id": "9d9645f1-ec69-4c8f-8fba-e268d9ab565d",
   "metadata": {},
   "outputs": [],
   "source": [
    "# Alternative Solutions:"
   ]
  },
  {
   "cell_type": "code",
   "execution_count": null,
   "id": "582ab7f2-fea8-4a51-8b9e-c7ac7d4151e4",
   "metadata": {},
   "outputs": [],
   "source": [
    "# Primary Solution:\n",
    "def expressions_matter(a, b, c):\n",
    "    return max(a*b*c, (a+b)*c, a*(b+c), a+b+c)\n",
    "\n",
    "# Simple, readable, and efficient"
   ]
  }
 ],
 "metadata": {
  "kernelspec": {
   "display_name": "Python 3 (ipykernel)",
   "language": "python",
   "name": "python3"
  },
  "language_info": {
   "codemirror_mode": {
    "name": "ipython",
    "version": 3
   },
   "file_extension": ".py",
   "mimetype": "text/x-python",
   "name": "python",
   "nbconvert_exporter": "python",
   "pygments_lexer": "ipython3",
   "version": "3.8.5"
  }
 },
 "nbformat": 4,
 "nbformat_minor": 5
}
