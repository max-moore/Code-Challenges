{
 "cells": [
  {
   "cell_type": "code",
   "execution_count": 1,
   "id": "fb0ccfc2-4bf5-418a-a6a0-a879c6c381e7",
   "metadata": {
    "collapsed": true,
    "jupyter": {
     "outputs_hidden": true
    },
    "tags": []
   },
   "outputs": [
    {
     "data": {
      "text/plain": [
       "'\\n* 8 Kyu - Century from Year *\\n\\nThe first century spans from the year 1 up to and including the year 100, \\nthe second century - from the year 101 up to and including the year 200, etc.\\n\\nGiven a year, return the century it is in.\\nExamples\\n\\n1705 --> 18\\n1900 --> 19\\n1601 --> 17\\n2000 --> 20\\n'"
      ]
     },
     "execution_count": 1,
     "metadata": {},
     "output_type": "execute_result"
    }
   ],
   "source": [
    "'''\n",
    "* 8 Kyu - Century from Year *\n",
    "\n",
    "The first century spans from the year 1 up to and including the year 100, \n",
    "the second century - from the year 101 up to and including the year 200, etc.\n",
    "\n",
    "Given a year, return the century it is in.\n",
    "Examples\n",
    "\n",
    "1705 --> 18\n",
    "1900 --> 19\n",
    "1601 --> 17\n",
    "2000 --> 20\n",
    "\n",
    "Concepts:\n",
    "Floor Division Operator\n",
    "'''"
   ]
  },
  {
   "cell_type": "code",
   "execution_count": null,
   "id": "8f9ba9ba-a47e-4889-8708-a03c9036a553",
   "metadata": {},
   "outputs": [],
   "source": [
    "# My Solution:\n",
    "def century(year):\n",
    "    return (year + 99) // 100"
   ]
  }
 ],
 "metadata": {
  "kernelspec": {
   "display_name": "Python 3 (ipykernel)",
   "language": "python",
   "name": "python3"
  },
  "language_info": {
   "codemirror_mode": {
    "name": "ipython",
    "version": 3
   },
   "file_extension": ".py",
   "mimetype": "text/x-python",
   "name": "python",
   "nbconvert_exporter": "python",
   "pygments_lexer": "ipython3",
   "version": "3.8.5"
  }
 },
 "nbformat": 4,
 "nbformat_minor": 5
}
