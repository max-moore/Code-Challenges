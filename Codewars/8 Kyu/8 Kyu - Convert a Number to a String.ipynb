{
 "cells": [
  {
   "cell_type": "code",
   "execution_count": 3,
   "id": "d1f9e826-eb21-44a1-8c77-74f15ef3c765",
   "metadata": {
    "collapsed": true,
    "jupyter": {
     "outputs_hidden": true
    },
    "tags": []
   },
   "outputs": [
    {
     "data": {
      "text/plain": [
       "'\\n* 8 Kyu - Convert a Number to a String *\\n\\nWe need a function that can transform a number into a string.\\n\\nWhat ways of achieving this do you know?\\n\\nExamples:\\n\\n123 --> \"123\"\\n999 --> \"999\"\\n'"
      ]
     },
     "execution_count": 3,
     "metadata": {},
     "output_type": "execute_result"
    }
   ],
   "source": [
    "'''\n",
    "* 8 Kyu - Convert a Number to a String *\n",
    "\n",
    "We need a function that can transform a number into a string.\n",
    "\n",
    "What ways of achieving this do you know?\n",
    "\n",
    "Examples:\n",
    "\n",
    "123 --> \"123\"\n",
    "999 --> \"999\"\n",
    "'''"
   ]
  },
  {
   "cell_type": "code",
   "execution_count": null,
   "id": "d2328f4c-d640-43fc-bf3d-d718479f9fcd",
   "metadata": {},
   "outputs": [],
   "source": [
    "# My Solution:\n",
    "def number_to_string(num):\n",
    "    return str(num)"
   ]
  },
  {
   "cell_type": "code",
   "execution_count": 2,
   "id": "4999ff4c-004d-4ced-908b-e50c13ee8cfd",
   "metadata": {},
   "outputs": [],
   "source": [
    "# Alternative Solutions:"
   ]
  },
  {
   "cell_type": "code",
   "execution_count": null,
   "id": "fdc10b67-2641-433a-b7d4-b14435ad2d89",
   "metadata": {},
   "outputs": [],
   "source": [
    "# No Function Definition:\n",
    "number_to_string = str\n",
    "\n",
    "# Arguably better than my solution because it doesn't define a function that already exists"
   ]
  }
 ],
 "metadata": {
  "kernelspec": {
   "display_name": "Python 3 (ipykernel)",
   "language": "python",
   "name": "python3"
  },
  "language_info": {
   "codemirror_mode": {
    "name": "ipython",
    "version": 3
   },
   "file_extension": ".py",
   "mimetype": "text/x-python",
   "name": "python",
   "nbconvert_exporter": "python",
   "pygments_lexer": "ipython3",
   "version": "3.8.5"
  }
 },
 "nbformat": 4,
 "nbformat_minor": 5
}
