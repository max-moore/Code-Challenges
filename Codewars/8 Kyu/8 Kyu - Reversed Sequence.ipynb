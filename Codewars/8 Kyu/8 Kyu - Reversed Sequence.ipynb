{
 "cells": [
  {
   "cell_type": "code",
   "execution_count": null,
   "id": "117b944a-dfc6-4f8a-9e75-b537041e4a1e",
   "metadata": {},
   "outputs": [],
   "source": [
    "'''\n",
    "* 8 Kyu - Reversed Sequence *\n",
    "\n",
    "Build a function that returns an array of integers from n to 1 where n>0.\n",
    "\n",
    "Example : n=5 --> [5,4,3,2,1]\n",
    "\n",
    "Methods/Functions:\n",
    "range()\n",
    "'''"
   ]
  },
  {
   "cell_type": "code",
   "execution_count": null,
   "id": "7aa278dc-f82a-4be8-9675-517abc7398fc",
   "metadata": {},
   "outputs": [],
   "source": [
    "# My Solution:\n",
    "def reverse_seq(n):\n",
    "    array = []\n",
    "    while n > 0:\n",
    "        array.append(n)\n",
    "        n -= 1\n",
    "    return array"
   ]
  },
  {
   "cell_type": "code",
   "execution_count": null,
   "id": "ff14361b-6dc4-4de7-8203-e40049ff440a",
   "metadata": {},
   "outputs": [],
   "source": [
    "# Alternative Solutions:"
   ]
  },
  {
   "cell_type": "code",
   "execution_count": null,
   "id": "de9812f3-a006-4860-971b-c9d37df4142f",
   "metadata": {},
   "outputs": [],
   "source": [
    "# Range Solution:\n",
    "def reverseseq(n):\n",
    "    return list(range(n, 0, -1))\n",
    "\n",
    "# Arguably the ideal solution"
   ]
  }
 ],
 "metadata": {
  "kernelspec": {
   "display_name": "Python 3 (ipykernel)",
   "language": "python",
   "name": "python3"
  },
  "language_info": {
   "codemirror_mode": {
    "name": "ipython",
    "version": 3
   },
   "file_extension": ".py",
   "mimetype": "text/x-python",
   "name": "python",
   "nbconvert_exporter": "python",
   "pygments_lexer": "ipython3",
   "version": "3.8.5"
  }
 },
 "nbformat": 4,
 "nbformat_minor": 5
}
