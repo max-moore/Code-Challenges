{
 "cells": [
  {
   "cell_type": "code",
   "execution_count": null,
   "id": "115e7ab2-913d-4071-830c-1bafdb19df53",
   "metadata": {},
   "outputs": [],
   "source": [
    "'''\n",
    "* 8 Kyu - Lost Without a Map *\n",
    "\n",
    "Given an array of integers, return a new array with each value doubled.\n",
    "\n",
    "For example:\n",
    "\n",
    "[1, 2, 3] --> [2, 4, 6]\n",
    "\n",
    "Concepts:\n",
    "List Comprehensions/Generators\n",
    "'''"
   ]
  },
  {
   "cell_type": "code",
   "execution_count": null,
   "id": "4ea91af1-c640-4346-8c83-77311b9730f8",
   "metadata": {},
   "outputs": [],
   "source": [
    "# My Solution:\n",
    "def maps(a):\n",
    "    return [x * 2 for x in a]\n",
    "\n",
    "# Ideal solution, a generator may be appropriate depending on the context - you might profile performance in a real-world context"
   ]
  }
 ],
 "metadata": {
  "kernelspec": {
   "display_name": "Python 3 (ipykernel)",
   "language": "python",
   "name": "python3"
  },
  "language_info": {
   "codemirror_mode": {
    "name": "ipython",
    "version": 3
   },
   "file_extension": ".py",
   "mimetype": "text/x-python",
   "name": "python",
   "nbconvert_exporter": "python",
   "pygments_lexer": "ipython3",
   "version": "3.8.5"
  }
 },
 "nbformat": 4,
 "nbformat_minor": 5
}
