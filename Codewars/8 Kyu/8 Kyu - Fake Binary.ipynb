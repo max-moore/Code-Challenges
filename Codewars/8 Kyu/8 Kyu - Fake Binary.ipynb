{
 "cells": [
  {
   "cell_type": "code",
   "execution_count": null,
   "id": "8c8a9795-b05d-4022-8089-b864c6c0d583",
   "metadata": {},
   "outputs": [],
   "source": [
    "'''\n",
    "* 8 Kyu - Fake Binary *\n",
    "\n",
    "Given a string of digits, you should replace any digit below 5 with '0' and any digit 5 and above with '1'. Return the resulting string.\n",
    "\n",
    "Note: input will never be an empty string\n",
    "\n",
    "Concepts:\n",
    "Comparison of Numbers as Strings\n",
    "\n",
    "Methods/Functions:\n",
    "join()\n",
    "'''"
   ]
  },
  {
   "cell_type": "code",
   "execution_count": null,
   "id": "9d5cd744-e280-4c71-b24b-8d57f2947012",
   "metadata": {},
   "outputs": [],
   "source": [
    "# My Solution:\n",
    "def fake_bin(x):\n",
    "    return ''.join(['0' if int(i) < 5 else '1' for i in x])\n",
    "\n",
    "# Ideal solution"
   ]
  },
  {
   "cell_type": "code",
   "execution_count": 1,
   "id": "df27ae44-0a00-4ba9-8ab2-091cce81d1e2",
   "metadata": {},
   "outputs": [],
   "source": [
    "# Alternative Solutions:"
   ]
  },
  {
   "cell_type": "code",
   "execution_count": null,
   "id": "cbc95884-7ce1-4c88-97af-6cd910c32b65",
   "metadata": {},
   "outputs": [],
   "source": [
    "# Comparison of Numbers as Strings:\n",
    "def fake_bin(x):\n",
    "    return ''.join(['0' if i < '5' else '1' for i in x])"
   ]
  }
 ],
 "metadata": {
  "kernelspec": {
   "display_name": "Python 3 (ipykernel)",
   "language": "python",
   "name": "python3"
  },
  "language_info": {
   "codemirror_mode": {
    "name": "ipython",
    "version": 3
   },
   "file_extension": ".py",
   "mimetype": "text/x-python",
   "name": "python",
   "nbconvert_exporter": "python",
   "pygments_lexer": "ipython3",
   "version": "3.8.5"
  }
 },
 "nbformat": 4,
 "nbformat_minor": 5
}
