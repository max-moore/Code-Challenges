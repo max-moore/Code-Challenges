{
 "cells": [
  {
   "cell_type": "code",
   "execution_count": 1,
   "id": "14324f84-539a-4296-a8ff-e912eeaeb670",
   "metadata": {
    "collapsed": true,
    "jupyter": {
     "outputs_hidden": true
    },
    "tags": []
   },
   "outputs": [
    {
     "data": {
      "text/plain": [
       "'\\n* 8 Kyu - Reversed Words *\\n\\nComplete the solution so that it reverses all of the words within the string passed in.\\n\\nExample(Input --> Output):\\n\\n\"The greatest victory is that which requires no battle\" --> \"battle no requires which that is victory greatest The\"\\n'"
      ]
     },
     "execution_count": 1,
     "metadata": {},
     "output_type": "execute_result"
    }
   ],
   "source": [
    "'''\n",
    "* 8 Kyu - Reversed Words *\n",
    "\n",
    "Complete the solution so that it reverses all of the words within the string passed in.\n",
    "\n",
    "Example(Input --> Output):\n",
    "\n",
    "\"The greatest victory is that which requires no battle\" --> \"battle no requires which that is victory greatest The\"\n",
    "\n",
    "Concepts:\n",
    "List Slicing\n",
    "\n",
    "Methods/Functions:\n",
    "join()\n",
    "split()\n",
    "reversed()\n",
    "'''"
   ]
  },
  {
   "cell_type": "code",
   "execution_count": null,
   "id": "3fdd7411-06d1-40c8-ac31-296e54ae8c7b",
   "metadata": {},
   "outputs": [],
   "source": [
    "# My Solution:\n",
    "def reverse_words(s):\n",
    "    return ' '.join(s.split()[::-1])\n",
    "\n",
    "# Solid solution"
   ]
  },
  {
   "cell_type": "code",
   "execution_count": 2,
   "id": "86ea8bf3-16ac-47cc-9db7-c03b1ae30903",
   "metadata": {},
   "outputs": [],
   "source": [
    "# Alternative Solution:"
   ]
  },
  {
   "cell_type": "code",
   "execution_count": null,
   "id": "de643ddb-ab9b-4a82-b075-516e39550183",
   "metadata": {},
   "outputs": [],
   "source": [
    "# Reversed Solution:\n",
    "def reverseWords(str):\n",
    "    return ' '.join(reversed(str.split(' ')))\n",
    "\n",
    "# Seems to be more memory efficient"
   ]
  }
 ],
 "metadata": {
  "kernelspec": {
   "display_name": "Python 3 (ipykernel)",
   "language": "python",
   "name": "python3"
  },
  "language_info": {
   "codemirror_mode": {
    "name": "ipython",
    "version": 3
   },
   "file_extension": ".py",
   "mimetype": "text/x-python",
   "name": "python",
   "nbconvert_exporter": "python",
   "pygments_lexer": "ipython3",
   "version": "3.8.5"
  }
 },
 "nbformat": 4,
 "nbformat_minor": 5
}
