{
 "cells": [
  {
   "cell_type": "code",
   "execution_count": null,
   "id": "79f693c8-e58d-4418-9bf7-5aa2840aa325",
   "metadata": {},
   "outputs": [],
   "source": [
    "'''\n",
    "* 8 Kyu - What is Between? *\n",
    "\n",
    "Complete the function that takes two integers (a, b, where a < b) and return an array of all integers between the input parameters, including them.\n",
    "\n",
    "For example:\n",
    "\n",
    "a = 1\n",
    "b = 4\n",
    "--> [1, 2, 3, 4]\n",
    "\n",
    "Concepts:\n",
    "Lists\n",
    "\n",
    "Methods/Functions:\n",
    "range()\n",
    "list()\n",
    "'''"
   ]
  },
  {
   "cell_type": "code",
   "execution_count": null,
   "id": "1aa794b3-d239-4ed7-84d7-50b4a12ef6cf",
   "metadata": {},
   "outputs": [],
   "source": [
    "# My Solution:\n",
    "def between(a,b):\n",
    "    return list(range(a, b + 1))\n",
    "\n",
    "# Best solution"
   ]
  }
 ],
 "metadata": {
  "kernelspec": {
   "display_name": "Python 3 (ipykernel)",
   "language": "python",
   "name": "python3"
  },
  "language_info": {
   "codemirror_mode": {
    "name": "ipython",
    "version": 3
   },
   "file_extension": ".py",
   "mimetype": "text/x-python",
   "name": "python",
   "nbconvert_exporter": "python",
   "pygments_lexer": "ipython3",
   "version": "3.8.5"
  }
 },
 "nbformat": 4,
 "nbformat_minor": 5
}
