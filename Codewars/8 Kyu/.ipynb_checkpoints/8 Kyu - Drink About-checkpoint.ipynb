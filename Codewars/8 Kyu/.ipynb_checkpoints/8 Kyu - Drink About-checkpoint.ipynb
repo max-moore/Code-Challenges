{
 "cells": [
  {
   "cell_type": "code",
   "execution_count": null,
   "id": "4a1290db-33aa-4b48-939c-c0b006ba573e",
   "metadata": {},
   "outputs": [],
   "source": [
    "'''\n",
    "* 8 Kyu - Drink About *\n",
    "\n",
    "Kids drink toddy.\n",
    "Teens drink coke.\n",
    "Young adults drink beer.\n",
    "Adults drink whisky.\n",
    "\n",
    "Make a function that receives age, and returns what they drink.\n",
    "\n",
    "Rules:\n",
    "Children are under 14.\n",
    "Teens are under 18.\n",
    "Young adults are under 21.\n",
    "Adults are 21 or older.\n",
    "\n",
    "Concepts:\n",
    "If statements\n",
    "'''"
   ]
  },
  {
   "cell_type": "code",
   "execution_count": null,
   "id": "969f9ca1-a82f-40f1-919b-a11204d7697d",
   "metadata": {},
   "outputs": [],
   "source": [
    "# My Solution:\n",
    "def people_with_age_drink(age):\n",
    "    drinks = { 21 : 'whisky',\n",
    "               18 : 'beer',\n",
    "               14 : 'coke' }\n",
    "    \n",
    "    for key in drinks:\n",
    "        if age >= key:\n",
    "            return('drink ' + drinks[key])\n",
    "    return('drink toddy')\n",
    "# Defined dictionary when unnecessary"
   ]
  },
  {
   "cell_type": "code",
   "execution_count": null,
   "id": "5ed5ae07-c7ac-44a9-b338-5646083fed77",
   "metadata": {},
   "outputs": [],
   "source": [
    "# Alternative Solutions:"
   ]
  },
  {
   "cell_type": "code",
   "execution_count": null,
   "id": "55f0d794-4bec-4aff-ad07-0c228e0b1991",
   "metadata": {},
   "outputs": [],
   "source": [
    "# Primary Solution:\n",
    "def people_with_age_drink(age):\n",
    "    if age > 20: return 'drink whisky'\n",
    "    if age > 17: return 'drink beer'\n",
    "    if age > 13: return 'drink coke'\n",
    "    return 'drink toddy'\n",
    "# No variable definition and only 4 lines"
   ]
  }
 ],
 "metadata": {
  "kernelspec": {
   "display_name": "Python 3 (ipykernel)",
   "language": "python",
   "name": "python3"
  },
  "language_info": {
   "codemirror_mode": {
    "name": "ipython",
    "version": 3
   },
   "file_extension": ".py",
   "mimetype": "text/x-python",
   "name": "python",
   "nbconvert_exporter": "python",
   "pygments_lexer": "ipython3",
   "version": "3.8.5"
  }
 },
 "nbformat": 4,
 "nbformat_minor": 5
}
