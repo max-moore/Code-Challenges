{
 "cells": [
  {
   "cell_type": "code",
   "execution_count": null,
   "id": "1b6d9c34-50b2-4d14-a2d7-f56923e02904",
   "metadata": {},
   "outputs": [],
   "source": [
    "'''\n",
    "* 8 Kyu - Clock *\n",
    "\n",
    "Clock shows h hours, m minutes and s seconds after midnight.\n",
    "\n",
    "Your task is to write a function which returns the time since midnight in milliseconds.\n",
    "Example:\n",
    "\n",
    "h = 0\n",
    "m = 1\n",
    "s = 1\n",
    "\n",
    "result = 61000\n",
    "\n",
    "Input constraints:\n",
    "\n",
    "    0 <= h <= 23\n",
    "    0 <= m <= 59\n",
    "    0 <= s <= 59\n",
    "    \n",
    "Methods/Functions:\n",
    "timedelta()\n",
    "'''"
   ]
  },
  {
   "cell_type": "code",
   "execution_count": null,
   "id": "26e9a4cb-d274-488a-ac39-54e59f9b8126",
   "metadata": {},
   "outputs": [],
   "source": [
    "# My Solution:\n",
    "def past(h, m, s):\n",
    "    return h * 3600000 + m * 60000 + s * 1000\n",
    "\n",
    "# Ideal solution"
   ]
  },
  {
   "cell_type": "code",
   "execution_count": null,
   "id": "658be034-828d-429a-91f0-03c830033f14",
   "metadata": {},
   "outputs": [],
   "source": [
    "# Alternative Solutions:"
   ]
  },
  {
   "cell_type": "code",
   "execution_count": null,
   "id": "b7ccd998-f7fe-47e7-83a1-d287b96dc7e7",
   "metadata": {},
   "outputs": [],
   "source": [
    "# Timedelta Solution:\n",
    "from datetime import timedelta\n",
    "\n",
    "def past(h, m, s):\n",
    "    return timedelta(hours=h, minutes=m, seconds=s) // timedelta(milliseconds=1)"
   ]
  }
 ],
 "metadata": {
  "kernelspec": {
   "display_name": "Python 3 (ipykernel)",
   "language": "python",
   "name": "python3"
  },
  "language_info": {
   "codemirror_mode": {
    "name": "ipython",
    "version": 3
   },
   "file_extension": ".py",
   "mimetype": "text/x-python",
   "name": "python",
   "nbconvert_exporter": "python",
   "pygments_lexer": "ipython3",
   "version": "3.8.5"
  }
 },
 "nbformat": 4,
 "nbformat_minor": 5
}
