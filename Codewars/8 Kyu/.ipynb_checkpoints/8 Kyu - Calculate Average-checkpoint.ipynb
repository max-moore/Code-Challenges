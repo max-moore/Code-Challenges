{
 "cells": [
  {
   "cell_type": "code",
   "execution_count": null,
   "id": "f2436dd5-6d5f-4a7b-8717-6902f7edaed0",
   "metadata": {},
   "outputs": [],
   "source": [
    "'''\n",
    "* 8 Kyu - Calculate Average *\n",
    "\n",
    "Write a function which calculates the average of the numbers in a given list.\n",
    "\n",
    "Note: Empty arrays should return 0.\n",
    "\n",
    "Methods/Functions:\n",
    "sum()\n",
    "len()\n",
    "'''"
   ]
  },
  {
   "cell_type": "code",
   "execution_count": null,
   "id": "596a3596-b012-4d2b-a403-8f20ba6cfefd",
   "metadata": {},
   "outputs": [],
   "source": [
    "# My Solution:\n",
    "def find_average(numbers):\n",
    "    return sum(numbers) / len(numbers)"
   ]
  },
  {
   "cell_type": "code",
   "execution_count": 1,
   "id": "49808151-e31f-4b74-b750-c4733bca4a90",
   "metadata": {},
   "outputs": [],
   "source": [
    "# Alternative Solutions:"
   ]
  },
  {
   "cell_type": "code",
   "execution_count": null,
   "id": "f5b551b5-c03c-445e-8afe-efdcdcb25ed9",
   "metadata": {},
   "outputs": [],
   "source": [
    "# Zero Division Error Solution:\n",
    "def find_average(array):\n",
    "    return sum(array) / len(array) if array else 0"
   ]
  }
 ],
 "metadata": {
  "kernelspec": {
   "display_name": "Python 3 (ipykernel)",
   "language": "python",
   "name": "python3"
  },
  "language_info": {
   "codemirror_mode": {
    "name": "ipython",
    "version": 3
   },
   "file_extension": ".py",
   "mimetype": "text/x-python",
   "name": "python",
   "nbconvert_exporter": "python",
   "pygments_lexer": "ipython3",
   "version": "3.8.5"
  }
 },
 "nbformat": 4,
 "nbformat_minor": 5
}
