{
 "cells": [
  {
   "cell_type": "code",
   "execution_count": null,
   "id": "3896e0e6-db89-48b3-9779-4ac35ffe550d",
   "metadata": {},
   "outputs": [],
   "source": [
    "'''\n",
    "*8 Kyu - Area of a Square*\n",
    "\n",
    "Complete the function that calculates the area of the red square, when the length of the circular arc A is given as the input. \n",
    "Return the result rounded to two decimals.\n",
    "\n",
    "Concepts:\n",
    "Trigonometry\n",
    "'''"
   ]
  },
  {
   "cell_type": "code",
   "execution_count": 1,
   "id": "118617c9-4249-4d72-af91-dd142db3e9d2",
   "metadata": {},
   "outputs": [],
   "source": [
    "import math"
   ]
  },
  {
   "cell_type": "code",
   "execution_count": null,
   "id": "1fc67567-1e8b-4478-9f76-73589a827de5",
   "metadata": {},
   "outputs": [],
   "source": [
    "# My Solution:\n",
    "def square_area(n):\n",
    "    return (n * 4 / math.pi / 2) ** 2\n",
    "\n",
    "# Note: The kata doesn't format answers, so my version on codewars uses round() to round to the 2nd decimal place\n",
    "# Solid solution, but you can get rid of the divison by 2, and instead multiply n by 2"
   ]
  },
  {
   "cell_type": "code",
   "execution_count": null,
   "id": "f8c64473-15ad-4551-8880-5cd421e3bf04",
   "metadata": {},
   "outputs": [],
   "source": [
    "# Alternative Solutions:"
   ]
  },
  {
   "cell_type": "code",
   "execution_count": null,
   "id": "007264f9-7a8b-494e-8021-03c4bd6651eb",
   "metadata": {},
   "outputs": [],
   "source": [
    "# Primary Solution:\n",
    "def square_area(n):\n",
    "    return(n * 2 / math.pi) ** 2\n",
    "\n",
    "# A little bit simpler than my solution"
   ]
  }
 ],
 "metadata": {
  "kernelspec": {
   "display_name": "Python 3 (ipykernel)",
   "language": "python",
   "name": "python3"
  },
  "language_info": {
   "codemirror_mode": {
    "name": "ipython",
    "version": 3
   },
   "file_extension": ".py",
   "mimetype": "text/x-python",
   "name": "python",
   "nbconvert_exporter": "python",
   "pygments_lexer": "ipython3",
   "version": "3.8.5"
  }
 },
 "nbformat": 4,
 "nbformat_minor": 5
}
