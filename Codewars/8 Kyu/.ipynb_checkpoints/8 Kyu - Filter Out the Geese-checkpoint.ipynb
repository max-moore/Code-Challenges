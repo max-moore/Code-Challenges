{
 "cells": [
  {
   "cell_type": "code",
   "execution_count": null,
   "id": "4aa02b47-2ee5-4337-b81a-79bba2cc4634",
   "metadata": {},
   "outputs": [],
   "source": [
    "'''\n",
    "* 8 Kyu - Filter Out the Geese *\n",
    "\n",
    "Write a function, gooseFilter / goose-filter / goose_filter / GooseFilter, \n",
    "that takes an array of strings as an argument and returns a filtered array containing the same elements but with the 'geese' removed.\n",
    "\n",
    "The geese are any strings in the following array, which is pre-populated in your solution:\n",
    "\n",
    "geese = [\"African\", \"Roman Tufted\", \"Toulouse\", \"Pilgrim\", \"Steinbacher\"]\n",
    "\n",
    "For example, if this array were passed as an argument:\n",
    "\n",
    "[\"Mallard\", \"Hook Bill\", \"African\", \"Crested\", \"Pilgrim\", \"Toulouse\", \"Blue Swedish\"]\n",
    "\n",
    "Your function would return the following array:\n",
    "\n",
    "[\"Mallard\", \"Hook Bill\", \"Crested\", \"Blue Swedish\"]\n",
    "\n",
    "The elements in the returned array should be in the same order as in the initial array passed to your function, \n",
    "albeit with the 'geese' removed. \n",
    "Note that all of the strings will be in the same case as those provided, and some elements may be repeated.\n",
    "\n",
    "Concepts:\n",
    "List comprehensions\n",
    "'''"
   ]
  },
  {
   "cell_type": "code",
   "execution_count": null,
   "id": "2d192e3e-e327-4a3e-b91e-876bea307528",
   "metadata": {},
   "outputs": [],
   "source": [
    "# My Solution:\n",
    "geese = [\"African\", \"Roman Tufted\", \"Toulouse\", \"Pilgrim\", \"Steinbacher\"]\n",
    "\n",
    "def goose_filter(birds):\n",
    "    return [bird for bird in birds if bird not in geese]\n",
    "# Best solution"
   ]
  }
 ],
 "metadata": {
  "kernelspec": {
   "display_name": "Python 3 (ipykernel)",
   "language": "python",
   "name": "python3"
  },
  "language_info": {
   "codemirror_mode": {
    "name": "ipython",
    "version": 3
   },
   "file_extension": ".py",
   "mimetype": "text/x-python",
   "name": "python",
   "nbconvert_exporter": "python",
   "pygments_lexer": "ipython3",
   "version": "3.8.5"
  }
 },
 "nbformat": 4,
 "nbformat_minor": 5
}
