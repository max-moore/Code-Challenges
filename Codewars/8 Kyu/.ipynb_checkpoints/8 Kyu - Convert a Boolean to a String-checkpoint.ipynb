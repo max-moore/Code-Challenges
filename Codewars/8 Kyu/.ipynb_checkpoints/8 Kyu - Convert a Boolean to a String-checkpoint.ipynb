{
 "cells": [
  {
   "cell_type": "code",
   "execution_count": null,
   "id": "e9cb0ffd-2b44-4f86-b0ee-459025a0ecfb",
   "metadata": {},
   "outputs": [],
   "source": [
    "'''\n",
    "* 8 Kyu - Convert a Boolean to a String *\n",
    "\n",
    "Implement a function which convert the given boolean value into its string representation.\n",
    "\n",
    "Note: Only valid inputs will be given.\n",
    "\n",
    "Concepts:\n",
    "String Formatting\n",
    "'''"
   ]
  },
  {
   "cell_type": "code",
   "execution_count": null,
   "id": "296b2740-b817-402e-aef7-db382d744248",
   "metadata": {},
   "outputs": [],
   "source": [
    "# My Solution:\n",
    "def boolean_to_string(b):\n",
    "    return f'{b}'\n",
    "\n",
    "# Solid solution"
   ]
  }
 ],
 "metadata": {
  "kernelspec": {
   "display_name": "Python 3 (ipykernel)",
   "language": "python",
   "name": "python3"
  },
  "language_info": {
   "codemirror_mode": {
    "name": "ipython",
    "version": 3
   },
   "file_extension": ".py",
   "mimetype": "text/x-python",
   "name": "python",
   "nbconvert_exporter": "python",
   "pygments_lexer": "ipython3",
   "version": "3.8.5"
  }
 },
 "nbformat": 4,
 "nbformat_minor": 5
}
