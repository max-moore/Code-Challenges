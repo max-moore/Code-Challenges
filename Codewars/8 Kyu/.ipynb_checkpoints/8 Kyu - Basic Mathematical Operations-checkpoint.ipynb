{
 "cells": [
  {
   "cell_type": "code",
   "execution_count": null,
   "id": "ea757f75-6b11-4353-b87b-79dc89e5b497",
   "metadata": {},
   "outputs": [],
   "source": [
    "'''\n",
    "* 8 Kyu - Basic Mathematical Operations *\n",
    "\n",
    "Your task is to create a function that does four basic mathematical operations.\n",
    "\n",
    "The function should take three arguments - operation(string/char), value1(number), value2(number).\n",
    "The function should return result of numbers after applying the chosen operation.\n",
    "Examples(Operator, value1, value2) --> output\n",
    "\n",
    "('+', 4, 7) --> 11\n",
    "('-', 15, 18) --> -3\n",
    "('*', 5, 5) --> 25\n",
    "('/', 49, 7) --> 7\n",
    "\n",
    "Concepts:\n",
    "If Else Statements\n",
    "'''"
   ]
  },
  {
   "cell_type": "code",
   "execution_count": null,
   "id": "cdc39e07-85ac-4edb-a53e-36740bc86fe8",
   "metadata": {},
   "outputs": [],
   "source": [
    "# My Solution:\n",
    "def basic_op(operator, value1, value2):\n",
    "    if operator == '+':\n",
    "        return value1 + value2\n",
    "    elif operator == '-':\n",
    "        return value1 - value2\n",
    "    elif operator == '*':\n",
    "        return value1 * value2\n",
    "    elif operator == '/':\n",
    "        return value1 / value2"
   ]
  },
  {
   "cell_type": "code",
   "execution_count": 1,
   "id": "04b38a46-bfff-410e-b29e-ee848db2a43c",
   "metadata": {},
   "outputs": [],
   "source": [
    "# Alternative Solutions:"
   ]
  },
  {
   "cell_type": "code",
   "execution_count": 11,
   "id": "432a3459-aadc-4c79-948b-1b05ef36454d",
   "metadata": {},
   "outputs": [],
   "source": [
    "# Dictionary Solution:\n",
    "def basic_op(operator, value1, value2):\n",
    "    ops = {'+': lambda a, b: a + b, \n",
    "           '-': lambda a, b: a - b,\n",
    "           '*': lambda a, b: a * b,\n",
    "           '/': lambda a, b: a / b}\n",
    "    return ops[operator](value1, value2)"
   ]
  }
 ],
 "metadata": {
  "kernelspec": {
   "display_name": "Python 3 (ipykernel)",
   "language": "python",
   "name": "python3"
  },
  "language_info": {
   "codemirror_mode": {
    "name": "ipython",
    "version": 3
   },
   "file_extension": ".py",
   "mimetype": "text/x-python",
   "name": "python",
   "nbconvert_exporter": "python",
   "pygments_lexer": "ipython3",
   "version": "3.8.5"
  }
 },
 "nbformat": 4,
 "nbformat_minor": 5
}
