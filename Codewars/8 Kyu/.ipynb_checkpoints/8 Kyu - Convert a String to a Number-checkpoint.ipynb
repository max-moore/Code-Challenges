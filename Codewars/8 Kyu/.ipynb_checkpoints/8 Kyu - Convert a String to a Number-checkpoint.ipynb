{
 "cells": [
  {
   "cell_type": "code",
   "execution_count": null,
   "id": "8c7ca815-fcdd-4671-bc8a-63f33cbd8198",
   "metadata": {},
   "outputs": [],
   "source": [
    "'''\n",
    "* 8 Kyu - Convert a String to a Number! *\n",
    "\n",
    "We need a function that can transform a string into a number. What ways of achieving this do you know?\n",
    "\n",
    "Note: Don't worry, all inputs will be strings, and every string is a perfectly valid representation of an integral number.\n",
    "\n",
    "Examples:\n",
    "\"1234\" --> 1234\n",
    "\"605\"  --> 605\n",
    "\"1405\" --> 1405\n",
    "\"-7\" --> -7\n",
    "\n",
    "Concepts: \n",
    "Type Conversion\n",
    "\n",
    "Methods/Functions:\n",
    "int()\n",
    "'''"
   ]
  },
  {
   "cell_type": "code",
   "execution_count": null,
   "id": "27a066e4-b27f-4e84-9a2a-845b7fcef1bc",
   "metadata": {},
   "outputs": [],
   "source": [
    "# My Solution:\n",
    "def string_to_number(s):\n",
    "    return int(s)"
   ]
  },
  {
   "cell_type": "code",
   "execution_count": null,
   "id": "dc084cbb-f823-4710-8b03-81010e972ede",
   "metadata": {},
   "outputs": [],
   "source": [
    "# Alternative Solutions:"
   ]
  },
  {
   "cell_type": "code",
   "execution_count": 1,
   "id": "20dcf9e9-50b5-4123-b40a-9a50b5b6e345",
   "metadata": {},
   "outputs": [],
   "source": [
    "# No Function Definition:\n",
    "string_to_number = int\n",
    "\n",
    "# Arguably better than my solution because it doesn't define a function that already exists"
   ]
  }
 ],
 "metadata": {
  "kernelspec": {
   "display_name": "Python 3 (ipykernel)",
   "language": "python",
   "name": "python3"
  },
  "language_info": {
   "codemirror_mode": {
    "name": "ipython",
    "version": 3
   },
   "file_extension": ".py",
   "mimetype": "text/x-python",
   "name": "python",
   "nbconvert_exporter": "python",
   "pygments_lexer": "ipython3",
   "version": "3.8.5"
  }
 },
 "nbformat": 4,
 "nbformat_minor": 5
}
