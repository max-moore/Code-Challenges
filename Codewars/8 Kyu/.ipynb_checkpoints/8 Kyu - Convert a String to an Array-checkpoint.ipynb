{
 "cells": [
  {
   "cell_type": "code",
   "execution_count": null,
   "id": "d7ad3245-df1b-468b-835a-8455097c8b70",
   "metadata": {},
   "outputs": [],
   "source": [
    "'''\n",
    "* 8 Kyu - Convert a String to an Array *\n",
    "\n",
    "Write a function to split a string and convert it into an array of words. \n",
    "\n",
    "Concepts:\n",
    "Strings/Lists\n",
    "\n",
    "Methods/Functions:\n",
    "split()\n",
    "'''"
   ]
  },
  {
   "cell_type": "code",
   "execution_count": null,
   "id": "01e82fc1-b81d-42e9-af60-5a8d989dd78c",
   "metadata": {},
   "outputs": [],
   "source": [
    "# My Solution:\n",
    "def string_to_array(s):\n",
    "    return s.split() if s.split() else ['']\n",
    "\n",
    "# Used an if statement to handle certain test cases"
   ]
  },
  {
   "cell_type": "code",
   "execution_count": 1,
   "id": "d7e3bdd0-c66a-405e-a437-16a78b4ebe86",
   "metadata": {},
   "outputs": [],
   "source": [
    "# Alternative Solutions:"
   ]
  },
  {
   "cell_type": "code",
   "execution_count": null,
   "id": "94de65c8-1257-44e0-84e9-d0298b4a0afd",
   "metadata": {},
   "outputs": [],
   "source": [
    "# Primary Solution:\n",
    "def string_to_array(s):\n",
    "    return s.split(' ')\n",
    "\n",
    "# Simpler way of handling test cases"
   ]
  }
 ],
 "metadata": {
  "kernelspec": {
   "display_name": "Python 3 (ipykernel)",
   "language": "python",
   "name": "python3"
  },
  "language_info": {
   "codemirror_mode": {
    "name": "ipython",
    "version": 3
   },
   "file_extension": ".py",
   "mimetype": "text/x-python",
   "name": "python",
   "nbconvert_exporter": "python",
   "pygments_lexer": "ipython3",
   "version": "3.8.5"
  }
 },
 "nbformat": 4,
 "nbformat_minor": 5
}
