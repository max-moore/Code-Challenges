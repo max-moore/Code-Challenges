{
 "cells": [
  {
   "cell_type": "code",
   "execution_count": null,
   "id": "8523f597-aded-40eb-81fb-710d21c153c0",
   "metadata": {},
   "outputs": [],
   "source": [
    "'''\n",
    "* 8 Kyu - Count of Positives/Sum of Negatives *\n",
    "\n",
    "Given an array of integers.\n",
    "\n",
    "Return an array, where the first element is the count of positives numbers and the second element is sum of negative numbers. \n",
    "0 is neither positive nor negative.\n",
    "\n",
    "If the input is an empty array or is null, return an empty array.\n",
    "\n",
    "Example:\n",
    "For input [1, 2, 3, 4, 5, 6, 7, 8, 9, 10, -11, -12, -13, -14, -15], you should return [10, -65].\n",
    "\n",
    "Concepts:\n",
    "List Comprehensions\n",
    "One-Liner If Else Statements\n",
    "\n",
    "Methods/Functions:\n",
    "len()\n",
    "sum()\n",
    "'''"
   ]
  },
  {
   "cell_type": "code",
   "execution_count": null,
   "id": "4bc0aa02-20f0-4459-a5dd-75a02ce1374e",
   "metadata": {},
   "outputs": [],
   "source": [
    "# My Solution:\n",
    "def count_positives_sum_negatives(arr):\n",
    "    return [len([x for x in arr if x > 0]), sum(x for x  in arr if x < 0)] if arr else []\n",
    "\n",
    "# Solid solution"
   ]
  }
 ],
 "metadata": {
  "kernelspec": {
   "display_name": "Python 3 (ipykernel)",
   "language": "python",
   "name": "python3"
  },
  "language_info": {
   "codemirror_mode": {
    "name": "ipython",
    "version": 3
   },
   "file_extension": ".py",
   "mimetype": "text/x-python",
   "name": "python",
   "nbconvert_exporter": "python",
   "pygments_lexer": "ipython3",
   "version": "3.8.5"
  }
 },
 "nbformat": 4,
 "nbformat_minor": 5
}
