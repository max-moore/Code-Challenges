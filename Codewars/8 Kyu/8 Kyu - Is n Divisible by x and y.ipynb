{
 "cells": [
  {
   "cell_type": "code",
   "execution_count": null,
   "id": "3048fe16-9962-46b7-bcc7-f58f0a877563",
   "metadata": {},
   "outputs": [],
   "source": [
    "'''\n",
    "* 8 Kyu - Is n divisible by x and y? *\n",
    "\n",
    "Create a function that checks if a number n is divisible by two numbers x AND y. All inputs are positive, non-zero digits.\n",
    "\n",
    "Examples:\n",
    "1) n =   3, x = 1, y = 3 =>  true because   3 is divisible by 1 and 3\n",
    "2) n =  12, x = 2, y = 6 =>  true because  12 is divisible by 2 and 6\n",
    "3) n = 100, x = 5, y = 3 => false because 100 is not divisible by 3\n",
    "4) n =  12, x = 7, y = 5 => false because  12 is neither divisible by 7 nor 5\n",
    "\n",
    "Concepts:\n",
    "Booleans\n",
    "Modulus\n",
    "'''"
   ]
  },
  {
   "cell_type": "code",
   "execution_count": null,
   "id": "4f7959de-5336-4272-b8eb-9af6d5103704",
   "metadata": {},
   "outputs": [],
   "source": [
    "# My Solution:\n",
    "def is_divisible(n,x,y):\n",
    "    return not n % x and not n % y"
   ]
  },
  {
   "cell_type": "code",
   "execution_count": 1,
   "id": "060d62a6-eba9-4909-b8fb-70ef6f73592b",
   "metadata": {},
   "outputs": [],
   "source": [
    "# Alternative Solutions:"
   ]
  },
  {
   "cell_type": "code",
   "execution_count": null,
   "id": "ce03b509-3ff9-4d31-8439-1e1e089c1795",
   "metadata": {},
   "outputs": [],
   "source": [
    "# DeMorgan's Theorem Solution\n",
    "def is_divisible(n,x,y):\n",
    "    return not (n%x or n%y)"
   ]
  }
 ],
 "metadata": {
  "kernelspec": {
   "display_name": "Python 3 (ipykernel)",
   "language": "python",
   "name": "python3"
  },
  "language_info": {
   "codemirror_mode": {
    "name": "ipython",
    "version": 3
   },
   "file_extension": ".py",
   "mimetype": "text/x-python",
   "name": "python",
   "nbconvert_exporter": "python",
   "pygments_lexer": "ipython3",
   "version": "3.8.5"
  }
 },
 "nbformat": 4,
 "nbformat_minor": 5
}
