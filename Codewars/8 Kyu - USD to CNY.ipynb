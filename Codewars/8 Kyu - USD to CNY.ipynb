{
 "cells": [
  {
   "cell_type": "code",
   "execution_count": null,
   "id": "20cbacd4-d88b-46d3-a650-0a4bbb21c124",
   "metadata": {},
   "outputs": [],
   "source": [
    "'''\n",
    "* 8 Kyu - USD to CNY *\n",
    "\n",
    "Create a function that converts US dollars (USD) to Chinese Yuan (CNY). \n",
    "The input is the amount of USD as an integer, and the output should be a string that states the amount of Yuan followed by 'Chinese Yuan'.\n",
    "\n",
    "The conversion rate you should use is 6.75 CNY for every 1 USD. \n",
    "All numbers should be represented as a string with 2 decimal places. (e.g. \"21.00\" NOT \"21.0\" or \"21\") \n",
    "\n",
    "Concepts:\n",
    "Format Strings\n",
    "'''"
   ]
  },
  {
   "cell_type": "code",
   "execution_count": 1,
   "id": "f371db11-f794-4fe8-978f-26d23dbbc6d1",
   "metadata": {},
   "outputs": [],
   "source": [
    "# My Solution:\n",
    "def usdcny(usd):\n",
    "    return f'{usd * 6.75:.2f} Chinese Yuan'\n",
    "\n",
    "# Best solution, uses format string"
   ]
  }
 ],
 "metadata": {
  "kernelspec": {
   "display_name": "Python 3 (ipykernel)",
   "language": "python",
   "name": "python3"
  },
  "language_info": {
   "codemirror_mode": {
    "name": "ipython",
    "version": 3
   },
   "file_extension": ".py",
   "mimetype": "text/x-python",
   "name": "python",
   "nbconvert_exporter": "python",
   "pygments_lexer": "ipython3",
   "version": "3.8.5"
  }
 },
 "nbformat": 4,
 "nbformat_minor": 5
}
