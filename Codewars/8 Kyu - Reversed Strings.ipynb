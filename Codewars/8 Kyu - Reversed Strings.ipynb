{
 "cells": [
  {
   "cell_type": "code",
   "execution_count": null,
   "id": "de72c673-e24d-46fa-9dd9-7a8fc73fee72",
   "metadata": {},
   "outputs": [],
   "source": [
    "'''\n",
    "* 8 Kyu - Reversed Strings *\n",
    "\n",
    "Complete the solution so that it reverses the string passed into it.\n",
    "\n",
    "'world'  =>  'dlrow'\n",
    "'word'   =>  'drow'\n",
    "\n",
    "Concepts:\n",
    "List slicing\n",
    "'''"
   ]
  },
  {
   "cell_type": "code",
   "execution_count": null,
   "id": "0754bb65-841c-42a3-9ecd-880e8437b83f",
   "metadata": {},
   "outputs": [],
   "source": [
    "# My Solution:\n",
    "def solution(string):\n",
    "    return string[::-1]\n",
    "\n",
    "# Best solution"
   ]
  }
 ],
 "metadata": {
  "kernelspec": {
   "display_name": "Python 3 (ipykernel)",
   "language": "python",
   "name": "python3"
  },
  "language_info": {
   "codemirror_mode": {
    "name": "ipython",
    "version": 3
   },
   "file_extension": ".py",
   "mimetype": "text/x-python",
   "name": "python",
   "nbconvert_exporter": "python",
   "pygments_lexer": "ipython3",
   "version": "3.8.5"
  }
 },
 "nbformat": 4,
 "nbformat_minor": 5
}
