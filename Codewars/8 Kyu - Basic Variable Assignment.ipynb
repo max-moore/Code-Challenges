{
 "cells": [
  {
   "cell_type": "code",
   "execution_count": null,
   "id": "599fad09-fc21-443f-a19a-18c2f78ca699",
   "metadata": {},
   "outputs": [],
   "source": [
    "'''\n",
    "* 8 Kyu - Basic Variable Assignment *\n",
    "\n",
    "This code should store \"codewa.rs\" as a variable called name but it's not working. Can you figure out why?\n",
    "\n",
    "Concepts:\n",
    "Assignment operator\n",
    "Comparison operator\n",
    "'''"
   ]
  },
  {
   "cell_type": "code",
   "execution_count": null,
   "id": "f592abf9-6c67-42f8-8177-45bd0137a7cd",
   "metadata": {},
   "outputs": [],
   "source": [
    "# My Solution\n",
    "a = \"code\"\n",
    "b = \"wa.rs\"\n",
    "name = a + b\n",
    "\n",
    "# Best solution, original used comparison operator instead of assignment operator"
   ]
  }
 ],
 "metadata": {
  "kernelspec": {
   "display_name": "Python 3 (ipykernel)",
   "language": "python",
   "name": "python3"
  },
  "language_info": {
   "codemirror_mode": {
    "name": "ipython",
    "version": 3
   },
   "file_extension": ".py",
   "mimetype": "text/x-python",
   "name": "python",
   "nbconvert_exporter": "python",
   "pygments_lexer": "ipython3",
   "version": "3.8.5"
  }
 },
 "nbformat": 4,
 "nbformat_minor": 5
}
