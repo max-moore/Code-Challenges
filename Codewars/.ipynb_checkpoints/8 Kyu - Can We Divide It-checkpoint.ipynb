{
 "cells": [
  {
   "cell_type": "code",
   "execution_count": null,
   "id": "b3b70c71-d411-4a64-bfd1-2f1db105232e",
   "metadata": {},
   "outputs": [],
   "source": [
    "'''\n",
    "* 8 Kyu - Can We Divide It? *\n",
    "\n",
    "Your task is to create functionisDivideBy (or is_divide_by) to check if an integer is divisible by two individual arguments.\n",
    "\n",
    "Concepts:\n",
    "Comparison operator\n",
    "Logical operators\n",
    "'''"
   ]
  },
  {
   "cell_type": "code",
   "execution_count": null,
   "id": "2d6abb35-2a77-4820-b1c3-d561cf4f4043",
   "metadata": {},
   "outputs": [],
   "source": [
    "# My Solution:\n",
    "def is_divide_by(number, a, b):\n",
    "    return number % a == 0 and number % b == 0\n",
    "# Best solution"
   ]
  }
 ],
 "metadata": {
  "kernelspec": {
   "display_name": "Python 3 (ipykernel)",
   "language": "python",
   "name": "python3"
  },
  "language_info": {
   "codemirror_mode": {
    "name": "ipython",
    "version": 3
   },
   "file_extension": ".py",
   "mimetype": "text/x-python",
   "name": "python",
   "nbconvert_exporter": "python",
   "pygments_lexer": "ipython3",
   "version": "3.8.5"
  }
 },
 "nbformat": 4,
 "nbformat_minor": 5
}
