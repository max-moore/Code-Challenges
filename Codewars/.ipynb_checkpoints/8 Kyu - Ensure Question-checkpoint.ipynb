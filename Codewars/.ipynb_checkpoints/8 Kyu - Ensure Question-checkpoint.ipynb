{
 "cells": [
  {
   "cell_type": "code",
   "execution_count": null,
   "id": "3ea4f122-5f99-4e9d-8e43-9cc626b3c496",
   "metadata": {},
   "outputs": [],
   "source": [
    "'''\n",
    "*8 Kyu - Ensure Question*\n",
    "\n",
    "Given a string, write a function that returns the string with a question mark (\"?\") appended to the end, \n",
    "unless the original string ends with a question mark - in which case, returns the original string.\n",
    "\n",
    "For example (Input --> Output)\n",
    "\n",
    "\"Yes\" --> \"Yes?\" \n",
    "\"No?\" --> \"No?\"\n",
    "\n",
    "Concepts:\n",
    "One liner conditionals\n",
    "Format strings\n",
    "\n",
    "Methods/Functions:\n",
    "endswith() method\n",
    "'''"
   ]
  },
  {
   "cell_type": "code",
   "execution_count": null,
   "id": "348aeda6-2133-4ade-9a4d-e828ec16bd1a",
   "metadata": {},
   "outputs": [],
   "source": [
    "# My Solution:\n",
    "def ensure_question(s):\n",
    "    return s + '?' if '?' not in s else s\n",
    "\n",
    "# Solid one-liner, might be better as a lambda function(?)\n",
    "# Doesn't work for strings with question marks through them, which aren't included test cases"
   ]
  },
  {
   "cell_type": "code",
   "execution_count": null,
   "id": "9f832200-8e90-42a6-b54d-3a26c9c6eccd",
   "metadata": {},
   "outputs": [],
   "source": [
    "# Alternative Solutions:"
   ]
  },
  {
   "cell_type": "code",
   "execution_count": null,
   "id": "e5b47de0-2635-4e2f-9c8c-c12948095c68",
   "metadata": {},
   "outputs": [],
   "source": [
    "# Primary Solution:\n",
    "def ensure_question(s):\n",
    "    return s if s.endswith('?') else f'{s}?'\n",
    "\n",
    "# Arguably the most universally functional solution, f-strings are good for both performance and readability"
   ]
  },
  {
   "cell_type": "code",
   "execution_count": null,
   "id": "92a063d1-97af-42d5-84ff-d65904fa5a40",
   "metadata": {},
   "outputs": [],
   "source": [
    "ensure_question = lambda s : s if s.endswith('?') else f'{s}?'\n",
    "\n",
    "# Lambda version of primary solution"
   ]
  },
  {
   "cell_type": "code",
   "execution_count": null,
   "id": "e77774e9-56ec-4215-b155-f4424e60ff7c",
   "metadata": {},
   "outputs": [],
   "source": [
    "def ensure_question(s):\n",
    "    return s.rstrip('?') + '?'\n",
    "\n",
    "# If there are multiple question marks throughout the string, this will remove them\n",
    "# In the test cases for this problem it doesn't look like there's intended to be strings with question marks through them, or multiple question marks at the end"
   ]
  },
  {
   "cell_type": "code",
   "execution_count": null,
   "id": "57be26f9-3204-4b4d-9fb8-7efb9a2ac8fa",
   "metadata": {},
   "outputs": [],
   "source": [
    "def ensure_question(s):\n",
    "    return f'{s}?'.replace('??', '?')\n",
    "\n",
    "# Doesn't work if there are sequences of multiple question marks anywhere in the string"
   ]
  }
 ],
 "metadata": {
  "kernelspec": {
   "display_name": "Python 3 (ipykernel)",
   "language": "python",
   "name": "python3"
  },
  "language_info": {
   "codemirror_mode": {
    "name": "ipython",
    "version": 3
   },
   "file_extension": ".py",
   "mimetype": "text/x-python",
   "name": "python",
   "nbconvert_exporter": "python",
   "pygments_lexer": "ipython3",
   "version": "3.8.5"
  }
 },
 "nbformat": 4,
 "nbformat_minor": 5
}
