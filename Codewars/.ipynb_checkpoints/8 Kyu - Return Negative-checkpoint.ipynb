{
 "cells": [
  {
   "cell_type": "code",
   "execution_count": null,
   "id": "44febb3b-f881-4e9c-b9d5-6f6388f00635",
   "metadata": {},
   "outputs": [],
   "source": [
    "'''\n",
    "* 8 Kyu - Return Negative *\n",
    "\n",
    "In this simple assignment you are given a number and have to make it negative. But maybe the number is already negative?\n",
    "\n",
    "Examples:\n",
    "make_negative(1);  # return -1\n",
    "make_negative(-5); # return -5\n",
    "make_negative(0);  # return 0\n",
    "\n",
    "Notes:\n",
    "    The number can be negative already, in which case no change is required.\n",
    "    Zero (0) is not checked for any specific sign. Negative zeros make no mathematical sense.\n",
    "\n",
    "Concepts:\n",
    "Negative operator\n",
    "\n",
    "Methods/Functions:\n",
    "abs()\n"
   ]
  },
  {
   "cell_type": "code",
   "execution_count": null,
   "id": "0cf9b8bf-2591-4c29-86ff-f05e334eacee",
   "metadata": {},
   "outputs": [],
   "source": [
    "# My Solution:\n",
    "def make_negative(number):\n",
    "    return -abs(number)\n",
    "\n",
    "# Best solution"
   ]
  }
 ],
 "metadata": {
  "kernelspec": {
   "display_name": "Python 3 (ipykernel)",
   "language": "python",
   "name": "python3"
  },
  "language_info": {
   "codemirror_mode": {
    "name": "ipython",
    "version": 3
   },
   "file_extension": ".py",
   "mimetype": "text/x-python",
   "name": "python",
   "nbconvert_exporter": "python",
   "pygments_lexer": "ipython3",
   "version": "3.8.5"
  }
 },
 "nbformat": 4,
 "nbformat_minor": 5
}
