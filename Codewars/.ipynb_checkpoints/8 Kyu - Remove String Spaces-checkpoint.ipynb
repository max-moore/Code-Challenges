{
 "cells": [
  {
   "cell_type": "code",
   "execution_count": null,
   "id": "cd558834-7d9a-4641-a3bf-88cdce6b9ed0",
   "metadata": {},
   "outputs": [],
   "source": [
    "'''\n",
    "* 8 Kyu - Remove String Spaces *\n",
    "\n",
    "Simple, remove the spaces from the string, then return the resultant string.\n",
    "\n",
    "Methods/Functions:\n",
    "replace()\n",
    "'''"
   ]
  },
  {
   "cell_type": "code",
   "execution_count": null,
   "id": "f15cd9d2-d12a-4c32-9d6a-4aa16e1a9e17",
   "metadata": {},
   "outputs": [],
   "source": [
    "# My Solution:\n",
    "def no_space(x):\n",
    "    return x.replace(' ', '')\n",
    "\n",
    "# Best solution"
   ]
  }
 ],
 "metadata": {
  "kernelspec": {
   "display_name": "Python 3 (ipykernel)",
   "language": "python",
   "name": "python3"
  },
  "language_info": {
   "codemirror_mode": {
    "name": "ipython",
    "version": 3
   },
   "file_extension": ".py",
   "mimetype": "text/x-python",
   "name": "python",
   "nbconvert_exporter": "python",
   "pygments_lexer": "ipython3",
   "version": "3.8.5"
  }
 },
 "nbformat": 4,
 "nbformat_minor": 5
}
