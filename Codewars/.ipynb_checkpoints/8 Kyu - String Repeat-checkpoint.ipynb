{
 "cells": [
  {
   "cell_type": "code",
   "execution_count": null,
   "id": "66dc21a0-7da6-4dbc-9bef-39d7519617ff",
   "metadata": {},
   "outputs": [],
   "source": [
    "'''\n",
    "* 8 Kyu - String Repeat *\n",
    "\n",
    "Write a function called repeatStr which repeats the given string string exactly n times.\n",
    "\n",
    "repeatStr(6, \"I\") // \"IIIIII\"\n",
    "repeatStr(5, \"Hello\") // \"HelloHelloHelloHelloHello\"\n",
    "\n",
    "Concepts:\n",
    "String operations\n",
    "'''"
   ]
  },
  {
   "cell_type": "code",
   "execution_count": null,
   "id": "733401dc-20ac-4818-94ee-1f1ce5703815",
   "metadata": {},
   "outputs": [],
   "source": [
    "# My Solution:\n",
    "def repeat_str(repeat, string):\n",
    "    return repeat * string\n",
    "\n",
    "# Best solution, disregarding lambda variation"
   ]
  }
 ],
 "metadata": {
  "kernelspec": {
   "display_name": "Python 3 (ipykernel)",
   "language": "python",
   "name": "python3"
  },
  "language_info": {
   "codemirror_mode": {
    "name": "ipython",
    "version": 3
   },
   "file_extension": ".py",
   "mimetype": "text/x-python",
   "name": "python",
   "nbconvert_exporter": "python",
   "pygments_lexer": "ipython3",
   "version": "3.8.5"
  }
 },
 "nbformat": 4,
 "nbformat_minor": 5
}
