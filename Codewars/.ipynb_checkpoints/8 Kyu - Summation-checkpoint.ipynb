{
 "cells": [
  {
   "cell_type": "code",
   "execution_count": null,
   "id": "b98455da-d033-49fc-b96a-6ba4df135fce",
   "metadata": {},
   "outputs": [],
   "source": [
    "'''\n",
    "* 8 Kyu - Summation *\n",
    "\n",
    "Write a program that finds the summation of every number from 1 to num. The number will always be a positive integer greater than 0.\n",
    "\n",
    "For example:\n",
    "\n",
    "summation(2) -> 3\n",
    "1 + 2\n",
    "\n",
    "summation(8) -> 36\n",
    "1 + 2 + 3 + 4 + 5 + 6 + 7 + 8\n",
    "\n",
    "Methods/Functions:\n",
    "range()\n",
    "'''"
   ]
  },
  {
   "cell_type": "code",
   "execution_count": null,
   "id": "e56c25de-4b15-4748-a7c8-4715ef5a8aaa",
   "metadata": {},
   "outputs": [],
   "source": [
    "# My Solution:\n",
    "def summation(num):\n",
    "    return sum(range(num+1))\n",
    "\n",
    "# Solid solution, but much weaker time requirements than the optimal solution"
   ]
  },
  {
   "cell_type": "code",
   "execution_count": 1,
   "id": "8a6f968f-f7bd-4414-a554-3c9ba560d8ee",
   "metadata": {},
   "outputs": [],
   "source": [
    "# Alternative Solutions:"
   ]
  },
  {
   "cell_type": "code",
   "execution_count": null,
   "id": "93a3200c-72fd-4dcc-a541-469d3a3e20f9",
   "metadata": {},
   "outputs": [],
   "source": [
    "# Primary Solution:\n",
    "def summation(num):\n",
    "    return (1+num) * num / 2\n",
    "\n",
    "# Math shortcut results in great performance"
   ]
  }
 ],
 "metadata": {
  "kernelspec": {
   "display_name": "Python 3 (ipykernel)",
   "language": "python",
   "name": "python3"
  },
  "language_info": {
   "codemirror_mode": {
    "name": "ipython",
    "version": 3
   },
   "file_extension": ".py",
   "mimetype": "text/x-python",
   "name": "python",
   "nbconvert_exporter": "python",
   "pygments_lexer": "ipython3",
   "version": "3.8.5"
  }
 },
 "nbformat": 4,
 "nbformat_minor": 5
}
