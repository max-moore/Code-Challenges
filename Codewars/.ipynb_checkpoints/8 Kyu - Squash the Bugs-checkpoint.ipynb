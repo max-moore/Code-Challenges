{
 "cells": [
  {
   "cell_type": "code",
   "execution_count": null,
   "id": "e72a2f15-fd50-49c2-8c38-59accd655619",
   "metadata": {},
   "outputs": [],
   "source": [
    "'''\n",
    "* 8 Kyu - Squash the Bugs *\n",
    "\n",
    "Simple challenge - eliminate all bugs from the supplied code so that the code runs and outputs the expected value. \n",
    "Output should be the length of the longest word, as a number.\n",
    "\n",
    "There will only be one 'longest' word.\n",
    "\n",
    "Concepts:\n",
    "List comprehensions\n",
    "\n",
    "Methods/Functions:\n",
    "max()\n",
    "len()\n",
    "split()\n",
    "'''"
   ]
  },
  {
   "cell_type": "code",
   "execution_count": null,
   "id": "d6b055cb-d3de-4279-b80c-13163905d83b",
   "metadata": {},
   "outputs": [],
   "source": [
    "# My Solution:\n",
    "def find_longest(string):\n",
    "    spl = string.split(\" \")\n",
    "    longest = 0\n",
    "    i=0\n",
    "    \n",
    "    while (i < len(spl)):\n",
    "        if (len(spl[i]) > longest): longest = len(spl[i])\n",
    "        i += 1\n",
    "    return longest\n",
    "# Valid in terms of working with the original code"
   ]
  },
  {
   "cell_type": "code",
   "execution_count": 1,
   "id": "24f38e71-efea-48d6-89d2-367495730de2",
   "metadata": {},
   "outputs": [],
   "source": [
    "# Alternative Solutions:"
   ]
  },
  {
   "cell_type": "code",
   "execution_count": 12,
   "id": "862ce08f-9951-4e43-8e1c-b8ef21bdc59b",
   "metadata": {},
   "outputs": [],
   "source": [
    "# My Other Solution:\n",
    "def find_longest(string):\n",
    "    return max([len(word) for word in string.split()])\n",
    "# Concise and effective"
   ]
  }
 ],
 "metadata": {
  "kernelspec": {
   "display_name": "Python 3 (ipykernel)",
   "language": "python",
   "name": "python3"
  },
  "language_info": {
   "codemirror_mode": {
    "name": "ipython",
    "version": 3
   },
   "file_extension": ".py",
   "mimetype": "text/x-python",
   "name": "python",
   "nbconvert_exporter": "python",
   "pygments_lexer": "ipython3",
   "version": "3.8.5"
  }
 },
 "nbformat": 4,
 "nbformat_minor": 5
}
