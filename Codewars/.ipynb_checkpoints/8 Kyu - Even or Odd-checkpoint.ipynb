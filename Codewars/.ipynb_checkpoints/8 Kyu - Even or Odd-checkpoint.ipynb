{
 "cells": [
  {
   "cell_type": "code",
   "execution_count": null,
   "id": "39063e50-d096-43ba-8258-6176596e38ec",
   "metadata": {},
   "outputs": [],
   "source": [
    "'''\n",
    "* 8 Kyu - Even or Odd *\n",
    "\n",
    "Create a function that takes an integer as an argument and returns \"Even\" for even numbers or \"Odd\" for odd numbers.\n",
    "\n",
    "Concepts:\n",
    "If statements\n",
    "Modulo operator\n",
    "Tuples\n",
    "Slicing\n",
    "'''"
   ]
  },
  {
   "cell_type": "code",
   "execution_count": 12,
   "id": "74507aa7-33eb-4d79-9511-c5787ee6ed45",
   "metadata": {},
   "outputs": [],
   "source": [
    "# My Solution:\n",
    "def even_or_odd(number):\n",
    "    return 'Odd' if number % 2 else 'Even'"
   ]
  },
  {
   "cell_type": "code",
   "execution_count": null,
   "id": "b9f64b4c-3abf-4f34-be8e-42815abd62b2",
   "metadata": {},
   "outputs": [],
   "source": [
    "# Alternative Solutions:"
   ]
  },
  {
   "cell_type": "code",
   "execution_count": 21,
   "id": "526cc6cf-2f6e-457f-be3a-63bea891ee5b",
   "metadata": {},
   "outputs": [],
   "source": [
    "# Tuple Version:\n",
    "def even_or_odd(number):\n",
    "    return ('Even', 'Odd')[number % 2]\n",
    "\n",
    "# Might be faster than my solution\n",
    "# A tuple is more efficient than a list in this context because we're using immutable data"
   ]
  }
 ],
 "metadata": {
  "kernelspec": {
   "display_name": "Python 3 (ipykernel)",
   "language": "python",
   "name": "python3"
  },
  "language_info": {
   "codemirror_mode": {
    "name": "ipython",
    "version": 3
   },
   "file_extension": ".py",
   "mimetype": "text/x-python",
   "name": "python",
   "nbconvert_exporter": "python",
   "pygments_lexer": "ipython3",
   "version": "3.8.5"
  }
 },
 "nbformat": 4,
 "nbformat_minor": 5
}
