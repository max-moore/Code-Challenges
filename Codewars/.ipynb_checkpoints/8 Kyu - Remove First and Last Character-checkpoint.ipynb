{
 "cells": [
  {
   "cell_type": "code",
   "execution_count": null,
   "id": "b39e17a0-4acb-4d6b-be3e-444d8aae4853",
   "metadata": {},
   "outputs": [],
   "source": [
    "'''\n",
    "* 8 Kyu - Remove First and Last Character *\n",
    "\n",
    "It's pretty straightforward. Your goal is to create a function that removes the first and last characters of a string. \n",
    "You're given one parameter, the original string. You don't have to worry about strings with less than two characters.\n",
    "\n",
    "Concepts:\n",
    "String/list slicing\n",
    "'''"
   ]
  },
  {
   "cell_type": "code",
   "execution_count": null,
   "id": "58f7d5ee-b148-4e8f-a66d-ae87908dc7cd",
   "metadata": {},
   "outputs": [],
   "source": [
    "# My Solution:\n",
    "def remove_char(s):\n",
    "    return s[1 : -1]\n",
    "\n",
    "# Best solution"
   ]
  }
 ],
 "metadata": {
  "kernelspec": {
   "display_name": "Python 3 (ipykernel)",
   "language": "python",
   "name": "python3"
  },
  "language_info": {
   "codemirror_mode": {
    "name": "ipython",
    "version": 3
   },
   "file_extension": ".py",
   "mimetype": "text/x-python",
   "name": "python",
   "nbconvert_exporter": "python",
   "pygments_lexer": "ipython3",
   "version": "3.8.5"
  }
 },
 "nbformat": 4,
 "nbformat_minor": 5
}
