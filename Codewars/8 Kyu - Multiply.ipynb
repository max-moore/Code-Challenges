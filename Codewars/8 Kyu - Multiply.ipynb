{
 "cells": [
  {
   "cell_type": "code",
   "execution_count": null,
   "id": "a5d1d2f0-8d91-40a9-9250-cd93d49619c1",
   "metadata": {},
   "outputs": [],
   "source": [
    "'''\n",
    "* 8 Kyu - Multiply *\n",
    "\n",
    "This code does not execute properly. Try to figure out why.\n",
    "\n",
    "def multiply(a, b):\n",
    "    a * b\n",
    "\n",
    "Concepts:\n",
    "return Statement\n",
    "'''"
   ]
  },
  {
   "cell_type": "code",
   "execution_count": 3,
   "id": "215b1ce0-ee3b-46f5-bb68-342c48439276",
   "metadata": {},
   "outputs": [],
   "source": [
    "# My Solution:\n",
    "\n",
    "def multiply(a, b):\n",
    "    return a * b\n",
    "\n",
    "# Best solution"
   ]
  }
 ],
 "metadata": {
  "kernelspec": {
   "display_name": "Python 3 (ipykernel)",
   "language": "python",
   "name": "python3"
  },
  "language_info": {
   "codemirror_mode": {
    "name": "ipython",
    "version": 3
   },
   "file_extension": ".py",
   "mimetype": "text/x-python",
   "name": "python",
   "nbconvert_exporter": "python",
   "pygments_lexer": "ipython3",
   "version": "3.8.5"
  }
 },
 "nbformat": 4,
 "nbformat_minor": 5
}
